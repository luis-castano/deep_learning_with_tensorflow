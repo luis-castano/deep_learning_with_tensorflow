{
 "cells": [
  {
   "cell_type": "code",
   "execution_count": 1,
   "metadata": {},
   "outputs": [
    {
     "name": "stderr",
     "output_type": "stream",
     "text": [
      "c:\\Luis\\Projects\\text_generation3\\venv\\lib\\site-packages\\tqdm\\auto.py:22: TqdmWarning: IProgress not found. Please update jupyter and ipywidgets. See https://ipywidgets.readthedocs.io/en/stable/user_install.html\n",
      "  from .autonotebook import tqdm as notebook_tqdm\n"
     ]
    }
   ],
   "source": [
    "import time\n",
    "import logging\n",
    "\n",
    "import numpy as np\n",
    "import matplotlib.pyplot as plt\n",
    "\n",
    "import tensorflow as tf\n",
    "import tensorflow_datasets as tfds\n",
    "\n",
    "import tensorflow_text"
   ]
  },
  {
   "cell_type": "code",
   "execution_count": 2,
   "metadata": {},
   "outputs": [],
   "source": [
    "logging.getLogger('tensorflow').setLevel(logging.ERROR) # Supress warnings"
   ]
  },
  {
   "cell_type": "code",
   "execution_count": 3,
   "metadata": {},
   "outputs": [
    {
     "name": "stdout",
     "output_type": "stream",
     "text": [
      "\u001b[1mDownloading and preparing dataset Unknown size (download: Unknown size, generated: Unknown size, total: Unknown size) to ~\\tensorflow_datasets\\ted_hrlr_translate\\pt_to_en\\1.0.0...\u001b[0m\n"
     ]
    },
    {
     "name": "stderr",
     "output_type": "stream",
     "text": [
      "Dl Completed...: 0 url [00:00, ? url/s]\n",
      "Dl Completed...:   0%|          | 0/1 [00:00<?, ? url/s]\n",
      "Dl Completed...:   0%|          | 0/1 [00:00<?, ? url/s]\n",
      "Dl Completed...:   0%|          | 0/1 [00:00<?, ? url/s]\n",
      "Dl Completed...:   0%|          | 0/1 [00:01<?, ? url/s]\n",
      "Dl Completed...:   0%|          | 0/1 [00:01<?, ? url/s]\n",
      "Dl Completed...:   0%|          | 0/1 [00:01<?, ? url/s]\n",
      "Dl Completed...:   0%|          | 0/1 [00:01<?, ? url/s]\n",
      "Dl Completed...:   0%|          | 0/1 [00:01<?, ? url/s]\n",
      "Dl Completed...:   0%|          | 0/1 [00:01<?, ? url/s]\n",
      "Dl Completed...:   0%|          | 0/1 [00:01<?, ? url/s]\n",
      "Dl Completed...:   0%|          | 0/1 [00:01<?, ? url/s]\n",
      "Dl Completed...:   0%|          | 0/1 [00:01<?, ? url/s]\n",
      "Dl Completed...:   0%|          | 0/1 [00:01<?, ? url/s]\n",
      "Dl Completed...:   0%|          | 0/1 [00:01<?, ? url/s]\n",
      "Dl Completed...:   0%|          | 0/1 [00:01<?, ? url/s]\n",
      "Dl Completed...:   0%|          | 0/1 [00:01<?, ? url/s]\n",
      "Dl Completed...:   0%|          | 0/1 [00:01<?, ? url/s]\n",
      "Dl Completed...:   0%|          | 0/1 [00:01<?, ? url/s]\n",
      "Dl Completed...:   0%|          | 0/1 [00:01<?, ? url/s]\n",
      "Dl Completed...:   0%|          | 0/1 [00:02<?, ? url/s]\n",
      "Dl Completed...:   0%|          | 0/1 [00:02<?, ? url/s]\n",
      "Dl Completed...:   0%|          | 0/1 [00:02<?, ? url/s]\n",
      "Dl Completed...:   0%|          | 0/1 [00:02<?, ? url/s]\n",
      "Dl Completed...:   0%|          | 0/1 [00:02<?, ? url/s]\n",
      "Dl Completed...:   0%|          | 0/1 [00:02<?, ? url/s]\n",
      "Dl Completed...:   0%|          | 0/1 [00:02<?, ? url/s]\n",
      "Dl Completed...:   0%|          | 0/1 [00:02<?, ? url/s]\n",
      "Dl Completed...:   0%|          | 0/1 [00:02<?, ? url/s]\n",
      "Dl Completed...:   0%|          | 0/1 [00:02<?, ? url/s]\n",
      "Dl Completed...:   0%|          | 0/1 [00:02<?, ? url/s]\n",
      "Dl Completed...:   0%|          | 0/1 [00:02<?, ? url/s]\n",
      "Dl Completed...:   0%|          | 0/1 [00:02<?, ? url/s]\n",
      "Dl Completed...:   0%|          | 0/1 [00:02<?, ? url/s]\n",
      "Dl Completed...:   0%|          | 0/1 [00:02<?, ? url/s]\n",
      "Dl Completed...:   0%|          | 0/1 [00:02<?, ? url/s]\n",
      "Dl Completed...:   0%|          | 0/1 [00:03<?, ? url/s]\n",
      "Dl Completed...:   0%|          | 0/1 [00:03<?, ? url/s]\n",
      "Dl Completed...:   0%|          | 0/1 [00:03<?, ? url/s]\n",
      "Dl Completed...:   0%|          | 0/1 [00:03<?, ? url/s]\n",
      "Dl Completed...:   0%|          | 0/1 [00:03<?, ? url/s]\n",
      "Dl Completed...:   0%|          | 0/1 [00:03<?, ? url/s]\n",
      "Dl Completed...:   0%|          | 0/1 [00:03<?, ? url/s]\n",
      "Dl Completed...:   0%|          | 0/1 [00:03<?, ? url/s]\n",
      "Dl Completed...:   0%|          | 0/1 [00:03<?, ? url/s]\n",
      "Dl Completed...:   0%|          | 0/1 [00:03<?, ? url/s]\n",
      "Dl Completed...:   0%|          | 0/1 [00:03<?, ? url/s]\n",
      "Dl Completed...:   0%|          | 0/1 [00:03<?, ? url/s]\n",
      "Dl Completed...:   0%|          | 0/1 [00:03<?, ? url/s]\n",
      "Dl Completed...:   0%|          | 0/1 [00:03<?, ? url/s]\n",
      "Dl Completed...:   0%|          | 0/1 [00:03<?, ? url/s]\n",
      "Dl Completed...:   0%|          | 0/1 [00:03<?, ? url/s]\n",
      "Dl Completed...:   0%|          | 0/1 [00:03<?, ? url/s]\n",
      "Dl Completed...:   0%|          | 0/1 [00:03<?, ? url/s]\n",
      "Dl Completed...:   0%|          | 0/1 [00:04<?, ? url/s]\n",
      "Dl Completed...:   0%|          | 0/1 [00:04<?, ? url/s]\n",
      "Dl Completed...:   0%|          | 0/1 [00:04<?, ? url/s]\n",
      "Dl Completed...:   0%|          | 0/1 [00:04<?, ? url/s]\n",
      "Dl Completed...:   0%|          | 0/1 [00:04<?, ? url/s]\n",
      "Dl Completed...:   0%|          | 0/1 [00:04<?, ? url/s]\n",
      "Dl Completed...:   0%|          | 0/1 [00:04<?, ? url/s]\n",
      "Dl Completed...:   0%|          | 0/1 [00:04<?, ? url/s]\n",
      "Dl Completed...:   0%|          | 0/1 [00:04<?, ? url/s]\n",
      "Dl Completed...:   0%|          | 0/1 [00:04<?, ? url/s]\n",
      "Dl Completed...:   0%|          | 0/1 [00:04<?, ? url/s]\n",
      "Dl Completed...:   0%|          | 0/1 [00:04<?, ? url/s]\n",
      "Dl Completed...:   0%|          | 0/1 [00:04<?, ? url/s]\n",
      "Dl Completed...:   0%|          | 0/1 [00:04<?, ? url/s]\n",
      "Dl Completed...:   0%|          | 0/1 [00:04<?, ? url/s]\n",
      "Dl Completed...:   0%|          | 0/1 [00:04<?, ? url/s]\n",
      "Dl Completed...:   0%|          | 0/1 [00:04<?, ? url/s]\n",
      "Dl Completed...:   0%|          | 0/1 [00:04<?, ? url/s]\n",
      "Dl Completed...:   0%|          | 0/1 [00:05<?, ? url/s]\n",
      "Dl Completed...:   0%|          | 0/1 [00:05<?, ? url/s]\n",
      "Dl Completed...:   0%|          | 0/1 [00:05<?, ? url/s]\n",
      "Dl Completed...:   0%|          | 0/1 [00:05<?, ? url/s]\n",
      "Dl Completed...:   0%|          | 0/1 [00:05<?, ? url/s]\n",
      "Dl Completed...:   0%|          | 0/1 [00:05<?, ? url/s]\n",
      "Dl Completed...:   0%|          | 0/1 [00:05<?, ? url/s]\n",
      "Dl Completed...:   0%|          | 0/1 [00:05<?, ? url/s]\n",
      "Dl Completed...:   0%|          | 0/1 [00:05<?, ? url/s]\n",
      "Dl Completed...:   0%|          | 0/1 [00:05<?, ? url/s]\n",
      "Dl Completed...:   0%|          | 0/1 [00:05<?, ? url/s]\n",
      "Dl Completed...:   0%|          | 0/1 [00:05<?, ? url/s]\n",
      "Dl Completed...:   0%|          | 0/1 [00:05<?, ? url/s]\n",
      "Dl Completed...:   0%|          | 0/1 [00:05<?, ? url/s]\n",
      "Dl Completed...:   0%|          | 0/1 [00:05<?, ? url/s]\n",
      "Dl Completed...:   0%|          | 0/1 [00:05<?, ? url/s]\n",
      "Dl Completed...:   0%|          | 0/1 [00:05<?, ? url/s]\n",
      "Dl Completed...:   0%|          | 0/1 [00:05<?, ? url/s]\n",
      "Dl Completed...:   0%|          | 0/1 [00:05<?, ? url/s]\n",
      "Dl Completed...:   0%|          | 0/1 [00:06<?, ? url/s]\n",
      "Dl Completed...:   0%|          | 0/1 [00:06<?, ? url/s]\n",
      "Dl Completed...:   0%|          | 0/1 [00:06<?, ? url/s]\n",
      "Dl Completed...:   0%|          | 0/1 [00:06<?, ? url/s]\n",
      "Dl Completed...:   0%|          | 0/1 [00:06<?, ? url/s]\n",
      "Dl Completed...:   0%|          | 0/1 [00:06<?, ? url/s]\n",
      "Dl Completed...:   0%|          | 0/1 [00:06<?, ? url/s]\n",
      "Dl Completed...:   0%|          | 0/1 [00:06<?, ? url/s]\n",
      "Dl Completed...:   0%|          | 0/1 [00:06<?, ? url/s]\n",
      "Dl Completed...:   0%|          | 0/1 [00:06<?, ? url/s]\n",
      "Dl Completed...:   0%|          | 0/1 [00:06<?, ? url/s]\n",
      "Dl Completed...:   0%|          | 0/1 [00:06<?, ? url/s]\n",
      "Dl Completed...:   0%|          | 0/1 [00:06<?, ? url/s]\n",
      "Dl Completed...:   0%|          | 0/1 [00:06<?, ? url/s]\n",
      "Dl Completed...:   0%|          | 0/1 [00:06<?, ? url/s]\n",
      "Dl Completed...:   0%|          | 0/1 [00:06<?, ? url/s]\n",
      "Dl Completed...:   0%|          | 0/1 [00:06<?, ? url/s]\n",
      "Dl Completed...:   0%|          | 0/1 [00:06<?, ? url/s]\n",
      "Dl Completed...:   0%|          | 0/1 [00:07<?, ? url/s]\n",
      "Dl Completed...:   0%|          | 0/1 [00:07<?, ? url/s]\n",
      "Dl Completed...:   0%|          | 0/1 [00:07<?, ? url/s]\n",
      "Dl Completed...:   0%|          | 0/1 [00:07<?, ? url/s]\n",
      "Dl Completed...:   0%|          | 0/1 [00:07<?, ? url/s]\n",
      "Dl Completed...:   0%|          | 0/1 [00:07<?, ? url/s]\n",
      "Dl Completed...:   0%|          | 0/1 [00:07<?, ? url/s]\n",
      "Dl Completed...:   0%|          | 0/1 [00:07<?, ? url/s]\n",
      "Dl Completed...:   0%|          | 0/1 [00:07<?, ? url/s]\n",
      "Dl Completed...:   0%|          | 0/1 [00:07<?, ? url/s]\n",
      "Dl Completed...:   0%|          | 0/1 [00:07<?, ? url/s]\n",
      "Dl Completed...:   0%|          | 0/1 [00:07<?, ? url/s]\n",
      "Dl Completed...:   0%|          | 0/1 [00:07<?, ? url/s]\n",
      "Dl Completed...:   0%|          | 0/1 [00:07<?, ? url/s]\n",
      "Dl Completed...:   0%|          | 0/1 [00:07<?, ? url/s]\n",
      "Dl Completed...:   0%|          | 0/1 [00:07<?, ? url/s]\n",
      "Dl Completed...:   0%|          | 0/1 [00:07<?, ? url/s]\n",
      "Dl Completed...:   0%|          | 0/1 [00:07<?, ? url/s]\n",
      "Dl Completed...: 100%|██████████| 1/1 [00:08<00:00,  8.03s/ url]\n",
      "Dl Completed...: 100%|██████████| 1/1 [00:08<00:00,  8.03s/ url]\n",
      "\u001b[A\n",
      "Dl Completed...: 100%|██████████| 1/1 [00:11<00:00,  8.03s/ url]\n",
      "Extraction completed...: 100%|██████████| 1/1 [00:11<00:00, 11.85s/ file]\n",
      "Dl Size...: 100%|██████████| 124/124 [00:11<00:00, 10.46 MiB/s]\n",
      "Dl Completed...: 100%|██████████| 1/1 [00:11<00:00, 11.85s/ url]\n",
      "                                                                        \r"
     ]
    },
    {
     "name": "stdout",
     "output_type": "stream",
     "text": [
      "\u001b[1mDataset ted_hrlr_translate downloaded and prepared to ~\\tensorflow_datasets\\ted_hrlr_translate\\pt_to_en\\1.0.0. Subsequent calls will reuse this data.\u001b[0m\n"
     ]
    }
   ],
   "source": [
    "examples, metadata = tfds.load(\n",
    "    'ted_hrlr_translate/pt_to_en',\n",
    "    with_info=True,\n",
    "    as_supervised=True\n",
    ")\n",
    "\n",
    "train_examples, val_examples = examples['train'], examples['validation']"
   ]
  },
  {
   "cell_type": "code",
   "execution_count": 5,
   "metadata": {},
   "outputs": [
    {
     "name": "stdout",
     "output_type": "stream",
     "text": [
      "e quando melhoramos a procura , tiramos a única vantagem da impressão , que é a serendipidade .\n",
      "mas e se estes fatores fossem ativos ?\n",
      "mas eles não tinham a curiosidade de me testar .\n",
      "and when you improve searchability , you actually take away the one advantage of print , which is serendipity .\n",
      "but what if it were active ?\n",
      "but they did n't test for curiosity .\n"
     ]
    }
   ],
   "source": [
    "for pt_examples, en_examples in train_examples.batch(3).take(1):\n",
    "    for pt in pt_examples.numpy():\n",
    "        print(pt.decode('utf-8'))\n",
    "\n",
    "    for en in en_examples.numpy():\n",
    "        print(en.decode('utf-8'))"
   ]
  },
  {
   "cell_type": "code",
   "execution_count": 7,
   "metadata": {},
   "outputs": [
    {
     "name": "stdout",
     "output_type": "stream",
     "text": [
      "Downloading data from https://storage.googleapis.com/download.tensorflow.org/models/ted_hrlr_translate_pt_en_converter.zip\n",
      "184801/184801 [==============================] - 0s 0us/step\n"
     ]
    },
    {
     "data": {
      "text/plain": [
       "'models\\\\ted_hrlr_translate_pt_en_converter.zip'"
      ]
     },
     "execution_count": 7,
     "metadata": {},
     "output_type": "execute_result"
    }
   ],
   "source": [
    "model_name = 'ted_hrlr_translate_pt_en_converter'\n",
    "\n",
    "tf.keras.utils.get_file(\n",
    "    f'{model_name}.zip',\n",
    "    f'https://storage.googleapis.com/download.tensorflow.org/models/{model_name}.zip',\n",
    "    cache_dir='models',\n",
    "    cache_subdir='',\n",
    "    extract=True\n",
    ")"
   ]
  },
  {
   "cell_type": "code",
   "execution_count": 9,
   "metadata": {},
   "outputs": [],
   "source": [
    "tokenizers = tf.saved_model.load(f'models/{model_name}')"
   ]
  },
  {
   "cell_type": "code",
   "execution_count": 10,
   "metadata": {},
   "outputs": [
    {
     "data": {
      "text/plain": [
       "['detokenize',\n",
       " 'get_reserved_tokens',\n",
       " 'get_vocab_path',\n",
       " 'get_vocab_size',\n",
       " 'lookup',\n",
       " 'tokenize',\n",
       " 'tokenizer',\n",
       " 'vocab']"
      ]
     },
     "execution_count": 10,
     "metadata": {},
     "output_type": "execute_result"
    }
   ],
   "source": [
    "[item for item in dir(tokenizers.en) if not item.startswith('_')]"
   ]
  },
  {
   "cell_type": "code",
   "execution_count": 11,
   "metadata": {},
   "outputs": [
    {
     "name": "stdout",
     "output_type": "stream",
     "text": [
      "and when you improve searchability , you actually take away the one advantage of print , which is serendipity .\n",
      "but what if it were active ?\n",
      "but they did n't test for curiosity .\n"
     ]
    }
   ],
   "source": [
    "for en in en_examples.numpy():\n",
    "    print(en.decode('utf-8'))"
   ]
  },
  {
   "cell_type": "code",
   "execution_count": 12,
   "metadata": {},
   "outputs": [
    {
     "name": "stdout",
     "output_type": "stream",
     "text": [
      "[2, 72, 117, 79, 1259, 1491, 2362, 13, 79, 150, 184, 311, 71, 103, 2308, 74, 2679, 13, 148, 80, 55, 4840, 1434, 2423, 540, 15, 3]\n",
      "[2, 87, 90, 107, 76, 129, 1852, 30, 3]\n",
      "[2, 87, 83, 149, 50, 9, 56, 664, 85, 2512, 15, 3]\n"
     ]
    }
   ],
   "source": [
    "encoded = tokenizers.en.tokenize(en_examples)\n",
    "\n",
    "for row in encoded.to_list():\n",
    "    print(row)"
   ]
  },
  {
   "cell_type": "code",
   "execution_count": 13,
   "metadata": {},
   "outputs": [
    {
     "name": "stdout",
     "output_type": "stream",
     "text": [
      "and when you improve searchability , you actually take away the one advantage of print , which is serendipity .\n",
      "but what if it were active ?\n",
      "but they did n ' t test for curiosity .\n"
     ]
    }
   ],
   "source": [
    "round_trip = tokenizers.en.detokenize(encoded)\n",
    "\n",
    "for line in round_trip.numpy():\n",
    "    print(line.decode('utf-8'))"
   ]
  },
  {
   "cell_type": "code",
   "execution_count": 14,
   "metadata": {},
   "outputs": [
    {
     "data": {
      "text/plain": [
       "<tf.RaggedTensor [[b'[START]', b'and', b'when', b'you', b'improve', b'search', b'##ability',\n",
       "  b',', b'you', b'actually', b'take', b'away', b'the', b'one', b'advantage',\n",
       "  b'of', b'print', b',', b'which', b'is', b's', b'##ere', b'##nd', b'##ip',\n",
       "  b'##ity', b'.', b'[END]']                                                 ,\n",
       " [b'[START]', b'but', b'what', b'if', b'it', b'were', b'active', b'?',\n",
       "  b'[END]']                                                           ,\n",
       " [b'[START]', b'but', b'they', b'did', b'n', b\"'\", b't', b'test', b'for',\n",
       "  b'curiosity', b'.', b'[END]']                                          ]>"
      ]
     },
     "execution_count": 14,
     "metadata": {},
     "output_type": "execute_result"
    }
   ],
   "source": [
    "tokens = tokenizers.en.lookup(encoded)\n",
    "tokens"
   ]
  },
  {
   "cell_type": "code",
   "execution_count": 15,
   "metadata": {},
   "outputs": [
    {
     "name": "stdout",
     "output_type": "stream",
     "text": [
      "..................................................."
     ]
    }
   ],
   "source": [
    "lengths = []\n",
    "\n",
    "for pt_examples, en_examples in train_examples.batch(1024):\n",
    "    pt_tokens = tokenizers.en.tokenize(pt_examples)\n",
    "    lengths.append(pt_tokens.row_lengths())\n",
    "\n",
    "    en_tokens = tokenizers.en.tokenize(en_examples)\n",
    "    lengths.append(en_tokens.row_lengths())\n",
    "\n",
    "    print('.', end='', flush=True)"
   ]
  },
  {
   "cell_type": "code",
   "execution_count": 16,
   "metadata": {},
   "outputs": [
    {
     "data": {
      "image/png": "[encoded data removed]",
      "text/plain": [
       "<Figure size 432x288 with 1 Axes>"
      ]
     },
     "metadata": {
      "needs_background": "light"
     },
     "output_type": "display_data"
    }
   ],
   "source": [
    "all_lengths = np.concatenate(lengths)\n",
    "\n",
    "plt.hist(all_lengths, np.linspace(0, 500, 101))\n",
    "plt.ylim(plt.ylim())\n",
    "\n",
    "max_length = max(all_lengths)\n",
    "plt.plot([max_length, max_length], plt.ylim())\n",
    "plt.title(f'Max tokens per example: {max_length}');"
   ]
  },
  {
   "cell_type": "code",
   "execution_count": 17,
   "metadata": {},
   "outputs": [],
   "source": [
    "MAX_TOKENS = 128"
   ]
  },
  {
   "cell_type": "code",
   "execution_count": 18,
   "metadata": {},
   "outputs": [],
   "source": [
    "def filter_max_tokens(pt, en):\n",
    "    num_tokens = tf.maximum(tf.shape(pt)[1], tf.shape(en)[1])\n",
    "    return num_tokens < MAX_TOKENS"
   ]
  },
  {
   "cell_type": "code",
   "execution_count": 19,
   "metadata": {},
   "outputs": [],
   "source": [
    "def tokenize_pairs(pt, en):\n",
    "    pt = tokenizers.pt.tokenize(pt)\n",
    "\n",
    "    # Convert from ragged to dense, padding with zeros\n",
    "    pt = pt.to_tensor()\n",
    "\n",
    "    en = tokenizers.en.tokenize(en)\n",
    "\n",
    "    # Convert from ragged to dense, padding with zeros\n",
    "    en = en.to_tensor()\n",
    "\n",
    "    return pt, en"
   ]
  },
  {
   "cell_type": "code",
   "execution_count": 20,
   "metadata": {},
   "outputs": [],
   "source": [
    "BUFFER_SIZE = 20000\n",
    "BATCH_SIZE = 64"
   ]
  },
  {
   "cell_type": "code",
   "execution_count": 22,
   "metadata": {},
   "outputs": [],
   "source": [
    "def make_batches(ds):\n",
    "    return (\n",
    "        ds\n",
    "        .cache()\n",
    "        .shuffle(BUFFER_SIZE)\n",
    "        .batch(BATCH_SIZE)\n",
    "        .map(tokenize_pairs, num_parallel_calls=tf.data.AUTOTUNE)\n",
    "        .filter(filter_max_tokens)\n",
    "        .prefetch(tf.data.AUTOTUNE)\n",
    "    )\n",
    "\n",
    "train_batches = make_batches(train_examples)\n",
    "val_batches = make_batches(val_examples)"
   ]
  },
  {
   "cell_type": "code",
   "execution_count": 23,
   "metadata": {},
   "outputs": [],
   "source": [
    "def get_angles(pos, i, d_model):\n",
    "    angle_rates = 1 / np.power(10000, (2 * (i // 2)) / np.float32(d_model))\n",
    "    return pos * angle_rates"
   ]
  },
  {
   "cell_type": "code",
   "execution_count": 24,
   "metadata": {},
   "outputs": [],
   "source": [
    "def positional_encoding(position, d_model):\n",
    "    angle_rads = get_angles(\n",
    "        np.arange(position)[:, np.newaxis],\n",
    "        np.arange(d_model)[np.newaxis, :],\n",
    "        d_model\n",
    "    )\n",
    "\n",
    "    # Apply sin to even indices in the array; 2i\n",
    "    angle_rads[:, 0::2] = np.sin(angle_rads[:, 1::2])\n",
    "    \n",
    "    # Apply cos to odd indices in the array; 2i + 1\n",
    "    angle_rads[:, 1::2] = np.cos(angle_rads[:, 1::2])\n",
    "\n",
    "    pos_encoding = angle_rads[np.newaxis, ...]\n",
    "    return tf.cast(pos_encoding, dtype=tf.float32)"
   ]
  },
  {
   "cell_type": "code",
   "execution_count": 25,
   "metadata": {},
   "outputs": [
    {
     "name": "stdout",
     "output_type": "stream",
     "text": [
      "(1, 2048, 512)\n"
     ]
    },
    {
     "data": {
      "image/png": "[encoded data removed]",
      "text/plain": [
       "<Figure size 432x288 with 2 Axes>"
      ]
     },
     "metadata": {
      "needs_background": "light"
     },
     "output_type": "display_data"
    }
   ],
   "source": [
    "n, d = 2048, 512\n",
    "\n",
    "pos_encoding = positional_encoding(n, d)\n",
    "print(pos_encoding.shape)\n",
    "pos_encoding = pos_encoding[0]\n",
    "\n",
    "# Juggle the dimension for the plot\n",
    "pos_encoding = tf.reshape(pos_encoding, (n, d // 2, 2))\n",
    "pos_encoding = tf.transpose(pos_encoding, (2, 1, 0))\n",
    "pos_encoding = tf.reshape(pos_encoding, (d, n))\n",
    "\n",
    "plt.pcolormesh(pos_encoding, cmap='RdBu')\n",
    "plt.ylabel('Depth')\n",
    "plt.xlabel('Position')\n",
    "plt.colorbar()\n",
    "plt.show()"
   ]
  },
  {
   "cell_type": "code",
   "execution_count": 26,
   "metadata": {},
   "outputs": [],
   "source": [
    "def create_padding_mask(seq):\n",
    "    seq = tf.cast(tf.math.equal(seq, 0), tf.float32)\n",
    "\n",
    "    # Add extra dimensions to add the padding to the attention logits\n",
    "    return seq[:, tf.newaxis, tf.newaxis, :] # (batch_size, 1, 1, seq_len)"
   ]
  },
  {
   "cell_type": "code",
   "execution_count": 27,
   "metadata": {},
   "outputs": [
    {
     "data": {
      "text/plain": [
       "<tf.Tensor: shape=(3, 1, 1, 5), dtype=float32, numpy=\n",
       "array([[[[0., 0., 1., 1., 0.]]],\n",
       "\n",
       "\n",
       "       [[[0., 0., 0., 1., 1.]]],\n",
       "\n",
       "\n",
       "       [[[1., 1., 1., 0., 0.]]]], dtype=float32)>"
      ]
     },
     "execution_count": 27,
     "metadata": {},
     "output_type": "execute_result"
    }
   ],
   "source": [
    "x = tf.constant([[7, 6, 0, 0, 1], [1, 2, 3, 0, 0], [0, 0, 0, 4, 5]])\n",
    "create_padding_mask(x)"
   ]
  },
  {
   "cell_type": "code",
   "execution_count": 28,
   "metadata": {},
   "outputs": [],
   "source": [
    "def create_look_ahead_mask(size):\n",
    "    mask = 1 - tf.linalg.band_part(tf.ones((size, size)), -1, 0)\n",
    "    return mask # (seq_len, seq_len)"
   ]
  },
  {
   "cell_type": "code",
   "execution_count": 29,
   "metadata": {},
   "outputs": [
    {
     "data": {
      "text/plain": [
       "<tf.Tensor: shape=(3, 3), dtype=float32, numpy=\n",
       "array([[0., 1., 1.],\n",
       "       [0., 0., 1.],\n",
       "       [0., 0., 0.]], dtype=float32)>"
      ]
     },
     "execution_count": 29,
     "metadata": {},
     "output_type": "execute_result"
    }
   ],
   "source": [
    "x = tf.random.uniform((1, 3))\n",
    "temp = create_look_ahead_mask(x.shape[1])\n",
    "temp"
   ]
  },
  {
   "cell_type": "code",
   "execution_count": 30,
   "metadata": {},
   "outputs": [],
   "source": [
    "# $ pip install tensorflow-probability\n",
    "\n",
    "# import tensorflow_probability as tfp\n",
    "\n",
    "# def create_look_ahead_mask(size):\n",
    "#     n = int(size * (size + 1) / 2)\n",
    "#     mask = tfp.math.fill_triangular(tf.ones((n,), dtype=tf.int32), upper=False)"
   ]
  },
  {
   "cell_type": "code",
   "execution_count": 31,
   "metadata": {},
   "outputs": [],
   "source": [
    "def scaled_dor_product_attention(q, k, v, mask):\n",
    "    '''\n",
    "    Calculate the attention weights.\n",
    "    q, k, v must have matching leading dimensions.\n",
    "    k, v must have matching penultimate dimension, i.e.: seq_len_k = seq_len_v.\n",
    "    The mask has different shapes depending on its type(padding or look ahead) but it must be broadcastable for addition.\n",
    "    \n",
    "    Args:\n",
    "        q: query shape == (..., seq_len_q, depth)\n",
    "        k: key shape == (..., seq_len_k, depth)\n",
    "        v: value shape == (..., seq_len_v, depth_v)\n",
    "        mask: Float tensor with shape broadcastable to (..., seq_len_q, seq_len_k). Defaults to None.\n",
    "        \n",
    "    Returns:\n",
    "        output, attention weights.\n",
    "    '''\n",
    "\n",
    "    matmul_qk = tf.matmul(q, k, transpose_b=True) # (..., seq_len_q, seq_len_k)\n",
    "\n",
    "    # Scale matmul_qk\n",
    "    dk = tf.cast(tf.shape(k)[-1], tf.float32)\n",
    "    scaled_attention_logits = matmul_qk / tf.math.sqrt(dk)\n",
    "\n",
    "    # Add the mask to the scaled tensor\n",
    "    if mask is not None:\n",
    "        scaled_attention_logits += (mask * -1e9)\n",
    "\n",
    "    # Softmax is normalized on the last axis (seq_len_k) so that the scores add up to 1\n",
    "    attention_weights = tf.nn.softmax(scaled_attention_logits, axis=-1) # (..., seq_len_q, seq_len_k)\n",
    "\n",
    "    output = tf.matmul(attention_weights, v) # (..., seq_len_q, depth_v)\n",
    "    return output, attention_weights"
   ]
  },
  {
   "cell_type": "code",
   "execution_count": 32,
   "metadata": {},
   "outputs": [],
   "source": [
    "def print_out(q, k, v):\n",
    "    temp_out, temp_attn = scaled_dor_product_attention(q, k, v, None)\n",
    "\n",
    "    print('Attention weights are:')\n",
    "    print(temp_attn)\n",
    "\n",
    "    print('Output is:')\n",
    "    print(temp_out)"
   ]
  },
  {
   "cell_type": "code",
   "execution_count": 33,
   "metadata": {},
   "outputs": [
    {
     "name": "stdout",
     "output_type": "stream",
     "text": [
      "Attention weights are:\n",
      "tf.Tensor([[0. 1. 0. 0.]], shape=(1, 4), dtype=float32)\n",
      "Output is:\n",
      "tf.Tensor([[10.  0.]], shape=(1, 2), dtype=float32)\n"
     ]
    }
   ],
   "source": [
    "np.set_printoptions(suppress=True)\n",
    "\n",
    "temp_k = tf.constant([\n",
    "    [10, 0, 0],\n",
    "    [0, 10, 0],\n",
    "    [0, 0, 10],\n",
    "    [0, 0, 10]\n",
    "], dtype=tf.float32\n",
    ") # (4, 3)\n",
    "\n",
    "temp_v = tf.constant([\n",
    "    [1, 0],\n",
    "    [10, 0],\n",
    "    [100, 5],\n",
    "    [1000, 6]\n",
    "], dtype=tf.float32\n",
    ") # (4, 2)\n",
    "\n",
    "# This `query` aligns with the second `key`, so the second `value` is returned\n",
    "temp_q = tf.constant([[0, 10, 0]], dtype=tf.float32) # (1, 3)\n",
    "\n",
    "print_out(temp_q, temp_k, temp_v)"
   ]
  },
  {
   "cell_type": "code",
   "execution_count": 34,
   "metadata": {},
   "outputs": [
    {
     "name": "stdout",
     "output_type": "stream",
     "text": [
      "Attention weights are:\n",
      "tf.Tensor([[0.  0.  0.5 0.5]], shape=(1, 4), dtype=float32)\n",
      "Output is:\n",
      "tf.Tensor([[550.    5.5]], shape=(1, 2), dtype=float32)\n"
     ]
    }
   ],
   "source": [
    "# This query aligns with a repeated key (third and fourth), so all associated values get averaged\n",
    "temp_q = tf.constant([[0, 0, 10]], dtype=tf.float32) # (1, 3)\n",
    "\n",
    "print_out(temp_q, temp_k, temp_v)"
   ]
  },
  {
   "cell_type": "code",
   "execution_count": 35,
   "metadata": {},
   "outputs": [
    {
     "name": "stdout",
     "output_type": "stream",
     "text": [
      "Attention weights are:\n",
      "tf.Tensor([[0.5 0.5 0.  0. ]], shape=(1, 4), dtype=float32)\n",
      "Output is:\n",
      "tf.Tensor([[5.5 0. ]], shape=(1, 2), dtype=float32)\n"
     ]
    }
   ],
   "source": [
    "# This query aligns equally with the first and second key, so their values get averaged\n",
    "temp_q = tf.constant([[10, 10, 0]], dtype=tf.float32) # (1, 3)\n",
    "\n",
    "print_out(temp_q, temp_k, temp_v)"
   ]
  },
  {
   "cell_type": "code",
   "execution_count": 36,
   "metadata": {},
   "outputs": [
    {
     "name": "stdout",
     "output_type": "stream",
     "text": [
      "Attention weights are:\n",
      "tf.Tensor(\n",
      "[[0.  0.  0.5 0.5]\n",
      " [0.  1.  0.  0. ]\n",
      " [0.5 0.5 0.  0. ]], shape=(3, 4), dtype=float32)\n",
      "Output is:\n",
      "tf.Tensor(\n",
      "[[550.    5.5]\n",
      " [ 10.    0. ]\n",
      " [  5.5   0. ]], shape=(3, 2), dtype=float32)\n"
     ]
    }
   ],
   "source": [
    "temp_q = tf.constant([\n",
    "    [0, 0, 10],\n",
    "    [0, 10, 0],\n",
    "    [10, 10, 0]\n",
    "], dtype=tf.float32\n",
    ") # (3, 3)\n",
    "\n",
    "print_out(temp_q, temp_k, temp_v)"
   ]
  },
  {
   "cell_type": "code",
   "execution_count": 38,
   "metadata": {},
   "outputs": [],
   "source": [
    "class MultiHeadAttention(tf.keras.layers.Layer):\n",
    "    def __init__(self, *, d_model, num_heads):\n",
    "        super(MultiHeadAttention, self).__init__()\n",
    "        self.num_heads = num_heads\n",
    "        self.d_model = d_model\n",
    "\n",
    "        assert d_model % self.num_heads == 0\n",
    "\n",
    "        self.depth = d_model // self.num_heads\n",
    "\n",
    "        self.wq = tf.keras.layers.Dense(d_model)\n",
    "        self.wk = tf.keras.layers.Dense(d_model)\n",
    "        self.wv = tf.keras.layers.Dense(d_model)\n",
    "\n",
    "        self.dense = tf.keras.layers.Dense(d_model)\n",
    "\n",
    "    def split_heads(self, x, batch_size):\n",
    "        '''\n",
    "        Split the last dimension into (num_heads, depth). Transpose the result such that the shape is (batch_size, num_heads, seq_len, depth).\n",
    "        '''\n",
    "\n",
    "        x = tf.reshape(x, (batch_size, -1, self.num_heads, self.depth))\n",
    "        return tf.transpose(x, perm=[0, 2, 1, 3])\n",
    "\n",
    "    def call(self, v, k, q, mask):\n",
    "        batch_size = tf.shape(q)[0]\n",
    "\n",
    "        q = self.wq(q) # (batch_size, seq_len, d_model)\n",
    "        k = self.wk(k) # (batch_size, seq_len, d_model)\n",
    "        v = self.wv(v) # (batch_size, seq_len, d_model)\n",
    "\n",
    "        q = self.split_heads(q, batch_size) # (batch_size, num_heads, seq_len_q, depth)\n",
    "        k = self.split_heads(k, batch_size) # (batch_size, num_heads, seq_len_k, depth)\n",
    "        v = self.split_heads(v, batch_size) # (batch_size, num_heads, seq_len_v, depth)\n",
    "\n",
    "        # scaled_attention.shape == (batch_size, num_heads, seq_len_q, depth)\n",
    "        # attention_weights.shape == (batch_size, num_heads, seq_len_q, seq_len_k)\n",
    "        scaled_attention, attention_weights = scaled_dor_product_attention(q, k, v, mask)\n",
    "        \n",
    "        scaled_attention = tf.transpose(scaled_attention, perm=[0, 2, 1, 3]) # (batch_size, seq_len_q, num_heads, depth)\n",
    "        concat_attention = tf.reshape(scaled_attention, (batch_size, -1, self.d_model)) # (batch_size, seq_len_q, d_model)\n",
    "\n",
    "        output = self.dense(concat_attention) # (batch_size, seq_len_q, d_model)\n",
    "        return output, attention_weights"
   ]
  },
  {
   "cell_type": "code",
   "execution_count": 39,
   "metadata": {},
   "outputs": [
    {
     "data": {
      "text/plain": [
       "(TensorShape([1, 60, 512]), TensorShape([1, 8, 60, 60]))"
      ]
     },
     "execution_count": 39,
     "metadata": {},
     "output_type": "execute_result"
    }
   ],
   "source": [
    "temp_mha = MultiHeadAttention(d_model=512, num_heads=8)\n",
    "y = tf.random.uniform((1, 60, 512)) # (batch_size, encoder_sequence, d_model)\n",
    "\n",
    "out, attn = temp_mha(y, k=y, q=y, mask=None)\n",
    "out.shape, attn.shape"
   ]
  },
  {
   "cell_type": "code",
   "execution_count": 40,
   "metadata": {},
   "outputs": [],
   "source": [
    "def point_wise_feed_forward_network(d_model, dff):\n",
    "    return tf.keras.Sequential([\n",
    "        tf.keras.layers.Dense(dff, activation='relu'), # (batch_size, seq_len, dff)\n",
    "        tf.keras.layers.Dense(d_model) # (batch_size, seq_len, d_model)\n",
    "    ])"
   ]
  },
  {
   "cell_type": "code",
   "execution_count": 41,
   "metadata": {},
   "outputs": [
    {
     "data": {
      "text/plain": [
       "TensorShape([64, 50, 512])"
      ]
     },
     "execution_count": 41,
     "metadata": {},
     "output_type": "execute_result"
    }
   ],
   "source": [
    "sample_ffn = point_wise_feed_forward_network(512, 2048)\n",
    "sample_ffn(tf.random.uniform((64, 50, 512))).shape"
   ]
  },
  {
   "cell_type": "code",
   "execution_count": 42,
   "metadata": {},
   "outputs": [],
   "source": [
    "class EncoderLayer(tf.keras.layers.Layer):\n",
    "    def __init__(self, *, d_model, num_heads, dff, rate=0.1):\n",
    "        super(EncoderLayer, self).__init__()\n",
    "\n",
    "        self.mha = MultiHeadAttention(d_model=d_model, num_heads=num_heads)\n",
    "        self.ffn = point_wise_feed_forward_network(d_model, dff)\n",
    "\n",
    "        self.layernorm1 = tf.keras.layers.LayerNormalization(epsilon=1e-6)\n",
    "        self.layernorm2 = tf.keras.layers.LayerNormalization(epsilon=1e-6)\n",
    "\n",
    "        self.dropout1 = tf.keras.layers.Dropout(rate)\n",
    "        self.dropout2 = tf.keras.layers.Dropout(rate)\n",
    "\n",
    "    def call(self, x, training, mask):\n",
    "        attn_output, _ = self.mha(x, x, x, mask) # (batch_size, input_seq_len, d_model)\n",
    "        attn_output = self.dropout1(attn_output, training=training)\n",
    "        out1 = self.layernorm1(x + attn_output) # (batch_size, input_seq_len, d_model)\n",
    "\n",
    "        ffn_output = self.ffn(out1) # (batch_size, input_seq_len, d_model)\n",
    "        ffn_output = self.dropout2(ffn_output, training=training)\n",
    "        out2 = self.layernorm2(out1 + ffn_output) # (batch_size, input_seq_len, d_model)\n",
    "\n",
    "        return out2"
   ]
  },
  {
   "cell_type": "code",
   "execution_count": 43,
   "metadata": {},
   "outputs": [
    {
     "data": {
      "text/plain": [
       "TensorShape([64, 43, 512])"
      ]
     },
     "execution_count": 43,
     "metadata": {},
     "output_type": "execute_result"
    }
   ],
   "source": [
    "sample_encoder_layer = EncoderLayer(d_model=512, num_heads=8, dff=2048)\n",
    "\n",
    "sample_encoder_layer_output = sample_encoder_layer(\n",
    "    tf.random.uniform((64, 43, 512)),\n",
    "    False,\n",
    "    None\n",
    ")\n",
    "\n",
    "sample_encoder_layer_output.shape # (batch_size, input_seq_len, d_model)"
   ]
  },
  {
   "cell_type": "code",
   "execution_count": 44,
   "metadata": {},
   "outputs": [],
   "source": [
    "class DecoderLayer(tf.keras.layers.Layer):\n",
    "    def __init__(self, *, d_model, num_heads, dff, rate=0.1):\n",
    "        super(DecoderLayer, self).__init__()\n",
    "\n",
    "        self.mha1 = MultiHeadAttention(d_model=d_model, num_heads=num_heads)\n",
    "        self.mha2 = MultiHeadAttention(d_model=d_model, num_heads=num_heads)\n",
    "\n",
    "        self.ffn = point_wise_feed_forward_network(d_model, dff)\n",
    "\n",
    "        self.layernorm1 = tf.keras.layers.LayerNormalization(epsilon=1e-6)\n",
    "        self.layernorm2 = tf.keras.layers.LayerNormalization(epsilon=1e-6)\n",
    "        self.layernorm3 = tf.keras.layers.LayerNormalization(epsilon=1e-6)\n",
    "\n",
    "        self.dropout1 = tf.keras.layers.Dropout(rate)\n",
    "        self.dropout2 = tf.keras.layers.Dropout(rate)\n",
    "        self.dropout3 = tf.keras.layers.Dropout(rate)\n",
    "\n",
    "    def call(self, x, enc_output, training, look_ahead_mask, padding_mask):\n",
    "        # enc_output.shape == (batch_size, input_seq_len, d_model)\n",
    "\n",
    "        attn1, attn_weights_block1 = self.mha1(x, x, x, look_ahead_mask) # (batch_size, target_seq_len, d_model)\n",
    "        attn1 = self.dropout1(attn1, training=training)\n",
    "        out1 = self.layernorm1(attn1 + x)\n",
    "\n",
    "        attn2, attn_weights_block2 = self.mha2(enc_output, enc_output, out1, padding_mask) # (batch_size, target_seq_len, d_model)\n",
    "        attn2 = self.dropout2(attn2, training=training)\n",
    "        out2 = self.layernorm2(attn2 + out1) # (batch_size, target_seq_len, d_model)\n",
    "\n",
    "        ffn_output = self.ffn(out2) # (batch_size, target_seq_len, d_model)\n",
    "        ffn_output = self.dropout3(ffn_output, training=training)\n",
    "        out3 = self.layernorm3(ffn_output + out2) # (batch_size, target_seq_len, d_model)\n",
    "\n",
    "        return out3, attn_weights_block1, attn_weights_block2"
   ]
  },
  {
   "cell_type": "code",
   "execution_count": 45,
   "metadata": {},
   "outputs": [
    {
     "data": {
      "text/plain": [
       "TensorShape([64, 50, 512])"
      ]
     },
     "execution_count": 45,
     "metadata": {},
     "output_type": "execute_result"
    }
   ],
   "source": [
    "sample_decoder_layer = DecoderLayer(d_model=512, num_heads=8, dff=2048)\n",
    "\n",
    "sample_decoder_layer_output, _, _ = sample_decoder_layer(\n",
    "    tf.random.uniform((64, 50, 512)),\n",
    "    sample_encoder_layer_output,\n",
    "    False,\n",
    "    None,\n",
    "    None\n",
    ")\n",
    "\n",
    "sample_decoder_layer_output.shape # (batch_size, target_seq_len, d_model)"
   ]
  },
  {
   "cell_type": "code",
   "execution_count": 48,
   "metadata": {},
   "outputs": [],
   "source": [
    "class Encoder(tf.keras.layers.Layer):\n",
    "    def __init__(self, *, num_layers, d_model, num_heads, dff, input_vocab_size, rate=0.1):\n",
    "        super(Encoder, self).__init__()\n",
    "\n",
    "        self.d_model = d_model\n",
    "        self.num_layers = num_layers\n",
    "\n",
    "        self.embedding = tf.keras.layers.Embedding(input_vocab_size, d_model)\n",
    "        self.pos_encoding = positional_encoding(MAX_TOKENS, self.d_model)\n",
    "\n",
    "        self.enc_layers = [\n",
    "            EncoderLayer(d_model=d_model, num_heads=num_heads, dff=dff, rate=rate)\n",
    "            for _ in range(num_layers)\n",
    "        ]\n",
    "\n",
    "        self.dropout = tf.keras.layers.Dropout(rate)\n",
    "\n",
    "    def call(self, x, training, mask):\n",
    "        seq_len = tf.shape(x)[1]\n",
    "\n",
    "        # Adding embedding and position encoding\n",
    "        x = self.embedding(x) # (batch_size, input_seq_len, d_model)\n",
    "        x *= tf.math.sqrt(tf.cast(self.d_model, tf.float32))\n",
    "        x += self.pos_encoding[:, :seq_len, :]\n",
    "        \n",
    "        x = self.dropout(x, training=training)\n",
    "\n",
    "        for i in range(self.num_layers):\n",
    "            x = self.enc_layers[i](x, training, mask)\n",
    "\n",
    "        return x # (batch_size, input_seq_len, d_model)"
   ]
  },
  {
   "cell_type": "code",
   "execution_count": 49,
   "metadata": {},
   "outputs": [
    {
     "name": "stdout",
     "output_type": "stream",
     "text": [
      "(64, 62, 512)\n"
     ]
    }
   ],
   "source": [
    "sample_encoder = Encoder(\n",
    "    num_layers=2,\n",
    "    d_model=512,\n",
    "    num_heads=8,\n",
    "    dff=2048,\n",
    "    input_vocab_size=8500\n",
    ")\n",
    "\n",
    "temp_input = tf.random.uniform((64, 62), dtype=tf.int64, minval=0, maxval=200)\n",
    "\n",
    "sample_encoder_output = sample_encoder(temp_input, training=False, mask=None)\n",
    "print(sample_encoder_output.shape) # (batch_size, input_seq_len, d_model)"
   ]
  },
  {
   "cell_type": "code",
   "execution_count": 50,
   "metadata": {},
   "outputs": [],
   "source": [
    "class Decoder(tf.keras.layers.Layer):\n",
    "    def __init__(self, *, num_layers, d_model, num_heads, dff, target_vocab_size, rate=0.1):\n",
    "        super(Decoder, self).__init__()\n",
    "\n",
    "        self.d_model = d_model\n",
    "        self.num_layers = num_layers\n",
    "\n",
    "        self.embedding = tf.keras.layers.Embedding(target_vocab_size, d_model)\n",
    "        self.pos_encoding = positional_encoding(MAX_TOKENS, d_model)\n",
    "\n",
    "        self.dec_layers = [\n",
    "            DecoderLayer(d_model=d_model, num_heads=num_heads, dff=dff, rate=rate)\n",
    "            for _ in range(num_layers)\n",
    "        ]\n",
    "\n",
    "        self.dropout = tf.keras.layers.Dropout(rate)\n",
    "\n",
    "    def call(self, x, enc_output, training, look_ahead_mask, padding_mask):\n",
    "        seq_len = tf.shape(x)[1]\n",
    "        attention_weights = {}\n",
    "\n",
    "        x = self.embedding(x) # (batch_size, target_seq_len, d_model)\n",
    "        x *= tf.math.sqrt(tf.cast(self.d_model, tf.float32))\n",
    "        x += self.pos_encoding[:, :seq_len, :]\n",
    "\n",
    "        x = self.dropout(x, training=training)\n",
    "\n",
    "        for i in range(self.num_layers):\n",
    "            x, block1, block2 = self.dec_layers[i](\n",
    "                x,\n",
    "                enc_output,\n",
    "                training,\n",
    "                look_ahead_mask,\n",
    "                padding_mask\n",
    "            )\n",
    "\n",
    "            attention_weights[f'decoder_layer{i + 1}_block1'] = block1\n",
    "            attention_weights[f'decoder_layer{i + 1}_block2'] = block2\n",
    "\n",
    "        # x.shape == (batch_size, target_seq_len, d_model)\n",
    "        return x, attention_weights"
   ]
  },
  {
   "cell_type": "code",
   "execution_count": 51,
   "metadata": {},
   "outputs": [
    {
     "data": {
      "text/plain": [
       "(TensorShape([64, 26, 512]), TensorShape([64, 8, 26, 62]))"
      ]
     },
     "execution_count": 51,
     "metadata": {},
     "output_type": "execute_result"
    }
   ],
   "source": [
    "sample_decoder = Decoder(\n",
    "    num_layers=2,\n",
    "    d_model=512,\n",
    "    num_heads=8,\n",
    "    dff=2048,\n",
    "    target_vocab_size=8000\n",
    ")\n",
    "\n",
    "temp_input = tf.random.uniform((64, 26), dtype=tf.int64, minval=0, maxval=200)\n",
    "\n",
    "output, attn = sample_decoder(\n",
    "    temp_input,\n",
    "    enc_output=sample_encoder_output,\n",
    "    training=False,\n",
    "    look_ahead_mask=None,\n",
    "    padding_mask=None\n",
    ")\n",
    "\n",
    "output.shape, attn['decoder_layer2_block2'].shape"
   ]
  },
  {
   "cell_type": "code",
   "execution_count": 52,
   "metadata": {},
   "outputs": [],
   "source": [
    "class Transformer(tf.keras.Model):\n",
    "    def __init__(self, *, num_layers, d_model, num_heads, dff, input_vocab_size, target_vocab_size, rate=0.1):\n",
    "        super().__init__()\n",
    "\n",
    "        self.encoder = Encoder(\n",
    "            num_layers=num_layers,\n",
    "            d_model=d_model,\n",
    "            num_heads=num_heads,\n",
    "            dff=dff,\n",
    "            input_vocab_size=input_vocab_size,\n",
    "            rate=rate\n",
    "        )\n",
    "\n",
    "        self.decoder = Decoder(\n",
    "            num_layers=num_layers,\n",
    "            d_model=d_model,\n",
    "            num_heads=num_heads,\n",
    "            dff=dff,\n",
    "            target_vocab_size=target_vocab_size,\n",
    "            rate=rate\n",
    "        )\n",
    "\n",
    "        self.final_layer = tf.keras.layers.Dense(target_vocab_size)\n",
    "\n",
    "    def call(self, inputs, training):\n",
    "        # Keras models prefer if you pass all your inputs in the first argument\n",
    "        inp, tar = inputs\n",
    "\n",
    "        padding_mask, look_ahead_mask = self.create_masks(inp, tar)\n",
    "\n",
    "        enc_output = self.encoder(inp, training, padding_mask) # (batch_size, inp_seq_len, d_model)\n",
    "\n",
    "        # dec_output.shape == (batch_size, tar_seq_len, d_model)\n",
    "        dec_output, attention_weights = self.decoder(tar, enc_output, training, look_ahead_mask, padding_mask)\n",
    "\n",
    "        final_output = self.final_layer(dec_output) # (batch_size, tar_seq_len, target_vocab_size)\n",
    "\n",
    "        return final_output, attention_weights\n",
    "\n",
    "    def create_masks(self, inp, tar):\n",
    "        # Encoder padding mask (used in the 2nd attention block in the decoder too)\n",
    "        padding_mask = create_padding_mask(inp)\n",
    "\n",
    "        # Used in the 1st attention block in the decoder. It is used to pad and mask future tokens in the input received by the decoder\n",
    "        look_ahead_mask = create_look_ahead_mask(tf.shape(tar)[1])\n",
    "        dec_target_padding_mask = create_padding_mask(tar)\n",
    "        look_ahead_mask = tf.maximum(dec_target_padding_mask, look_ahead_mask)\n",
    "\n",
    "        return padding_mask, look_ahead_mask"
   ]
  },
  {
   "cell_type": "code",
   "execution_count": 53,
   "metadata": {},
   "outputs": [
    {
     "data": {
      "text/plain": [
       "TensorShape([64, 36, 8000])"
      ]
     },
     "execution_count": 53,
     "metadata": {},
     "output_type": "execute_result"
    }
   ],
   "source": [
    "sample_transformer = Transformer(\n",
    "    num_layers=2,\n",
    "    d_model=512,\n",
    "    num_heads=8,\n",
    "    dff=2048,\n",
    "    input_vocab_size=8500,\n",
    "    target_vocab_size=8000\n",
    ")\n",
    "\n",
    "temp_input = tf.random.uniform((64, 38), dtype=tf.int64, minval=0, maxval=200)\n",
    "temp_target = tf.random.uniform((64, 36), dtype=tf.int64, minval=0, maxval=200)\n",
    "\n",
    "fn_out, _ = sample_transformer([temp_input, temp_target], training=False)\n",
    "fn_out.shape # (batch_size, tar_seq_len, target_vocab_size)"
   ]
  },
  {
   "cell_type": "code",
   "execution_count": 54,
   "metadata": {},
   "outputs": [],
   "source": [
    "num_layers = 4\n",
    "d_model = 128\n",
    "dff = 512\n",
    "num_heads = 8\n",
    "dropout_rate = 0.1"
   ]
  },
  {
   "cell_type": "code",
   "execution_count": 55,
   "metadata": {},
   "outputs": [],
   "source": [
    "class CustomSchedule(tf.keras.optimizers.schedules.LearningRateSchedule):\n",
    "    def __init__(self, d_model, warmup_steps=4000):\n",
    "        super(CustomSchedule, self).__init__()\n",
    "        self.d_model = d_model\n",
    "        self.d_model = tf.cast(self.d_model, tf.float32)\n",
    "        self.warmup_steps = warmup_steps\n",
    "\n",
    "    def __call__(self, step):\n",
    "        arg1 = tf.math.rsqrt(step)\n",
    "        arg2 = step * (self.warmup_steps ** -1.5)\n",
    "        return tf.math.rsqrt(self.d_model) * tf.math.minimum(arg1, arg2)"
   ]
  },
  {
   "cell_type": "code",
   "execution_count": 56,
   "metadata": {},
   "outputs": [],
   "source": [
    "learning_rate = CustomSchedule(d_model)\n",
    "optimizer = tf.keras.optimizers.Adam(learning_rate, beta_1=0.9, beta_2=0.98, epsilon=1e-9)"
   ]
  },
  {
   "cell_type": "code",
   "execution_count": 57,
   "metadata": {},
   "outputs": [
    {
     "data": {
      "text/plain": [
       "Text(0.5, 0, 'Train Step')"
      ]
     },
     "execution_count": 57,
     "metadata": {},
     "output_type": "execute_result"
    },
    {
     "data": {
      "image/png": "[encoded data removed]",
      "text/plain": [
       "<Figure size 432x288 with 1 Axes>"
      ]
     },
     "metadata": {
      "needs_background": "light"
     },
     "output_type": "display_data"
    }
   ],
   "source": [
    "temp_learning_rate_schedule = CustomSchedule(d_model)\n",
    "\n",
    "plt.plot(temp_learning_rate_schedule(tf.range(40000, dtype=tf.float32)))\n",
    "plt.ylabel('Learning Rate')\n",
    "plt.xlabel('Train Step')"
   ]
  },
  {
   "cell_type": "code",
   "execution_count": 58,
   "metadata": {},
   "outputs": [],
   "source": [
    "loss_object = tf.keras.losses.SparseCategoricalCrossentropy(from_logits=True, reduction='none')"
   ]
  },
  {
   "cell_type": "code",
   "execution_count": 59,
   "metadata": {},
   "outputs": [],
   "source": [
    "def loss_function(real, pred):\n",
    "    mask = tf.math.logical_not(tf.math.equal(real, 0))\n",
    "    loss_ = loss_object(real, pred)\n",
    "\n",
    "    mask = tf.cast(mask, dtype=loss_.dtype)\n",
    "    loss_ *= mask\n",
    "\n",
    "    return tf.reduce_sum(loss_) / tf.reduce_sum(mask)\n",
    "\n",
    "def accuracy_function(real, pred):\n",
    "    accuracies = tf.equal(real, tf.argmax(pred, axis=2))\n",
    "\n",
    "    mask = tf.math.logical_not(tf.math.equal(real, 0))\n",
    "    accuracies = tf.math.logical_and(mask, accuracies)\n",
    "\n",
    "    accuracies = tf.cast(accuracies, dtype=tf.float32)\n",
    "    mask = tf.cast(mask, dtype=tf.float32)\n",
    "\n",
    "    return tf.reduce_sum(accuracies) / tf.reduce_sum(mask)"
   ]
  },
  {
   "cell_type": "code",
   "execution_count": 60,
   "metadata": {},
   "outputs": [],
   "source": [
    "train_loss = tf.keras.metrics.Mean(name='train_loss')\n",
    "train_accuracy = tf.keras.metrics.Mean(name='train_accuracy')"
   ]
  },
  {
   "cell_type": "code",
   "execution_count": 61,
   "metadata": {},
   "outputs": [],
   "source": [
    "transformer = Transformer(\n",
    "    num_layers=num_layers,\n",
    "    d_model=d_model,\n",
    "    num_heads=num_heads,\n",
    "    dff=dff,\n",
    "    input_vocab_size=tokenizers.pt.get_vocab_size().numpy(),\n",
    "    target_vocab_size=tokenizers.en.get_vocab_size().numpy(),\n",
    "    rate=dropout_rate\n",
    ")"
   ]
  },
  {
   "cell_type": "code",
   "execution_count": 62,
   "metadata": {},
   "outputs": [],
   "source": [
    "checkpoint_path = 'ckpts/checkpoints/train'\n",
    "\n",
    "ckpt = tf.train.Checkpoint(\n",
    "    transformer=transformer,\n",
    "    optimizer=optimizer\n",
    ")\n",
    "\n",
    "ckpt_manager = tf.train.CheckpointManager(ckpt, checkpoint_path, max_to_keep=5)\n",
    "\n",
    "# If a checkpoint exist, restore the latest checkpoint\n",
    "if ckpt_manager.latest_checkpoint:\n",
    "    ckpt.restore(ckpt_manager.latest_checkpoint)\n",
    "    print('Latest checkpoint restored')"
   ]
  },
  {
   "cell_type": "code",
   "execution_count": 63,
   "metadata": {},
   "outputs": [],
   "source": [
    "EPOCHS = 20"
   ]
  },
  {
   "cell_type": "code",
   "execution_count": 64,
   "metadata": {},
   "outputs": [],
   "source": [
    "# The @tf.function trace-compiles train_step into a tf graph for faster execution. The function specializes to the precise shape of the argument tensors. To avoid re-tracing due to the variable sequence lengths or variable batch sizes (the last batch is smaller), use input_signture to specify more generic shapes\n",
    "\n",
    "train_step_signature = [\n",
    "    tf.TensorSpec(shape=(None, None), dtype=tf.int64),\n",
    "    tf.TensorSpec(shape=(None, None), dtype=tf.int64)\n",
    "]\n",
    "\n",
    "@tf.function(input_signature=train_step_signature)\n",
    "def train_step(inp, tar):\n",
    "    tar_inp = tar[:, :-1]\n",
    "    tar_real = tar[:, 1:]\n",
    "\n",
    "    with tf.GradientTape() as tape:\n",
    "        predictions, _ = transformer([inp, tar_inp], training=True)\n",
    "        loss = loss_function(tar_real, predictions)\n",
    "\n",
    "    gradients = tape.gradient(loss, transformer.trainable_variables)\n",
    "    optimizer.apply_gradients(zip(gradients, transformer.trainable_variables))\n",
    "\n",
    "    train_loss(loss)\n",
    "    train_accuracy(accuracy_function(tar_real, predictions))"
   ]
  },
  {
   "cell_type": "code",
   "execution_count": 65,
   "metadata": {},
   "outputs": [
    {
     "name": "stdout",
     "output_type": "stream",
     "text": [
      "Epoch: 1 | Batch: 0 | Loss: 8.8750 | Accuracy: 0.0000\n",
      "Epoch: 1 | Batch: 50 | Loss: 8.8182 | Accuracy: 0.0005\n",
      "Epoch: 1 | Batch: 100 | Loss: 8.7035 | Accuracy: 0.0243\n",
      "Epoch: 1 | Batch: 150 | Loss: 8.5805 | Accuracy: 0.0334\n",
      "Epoch: 1 | Batch: 200 | Loss: 8.4365 | Accuracy: 0.0375\n",
      "Epoch: 1 | Batch: 250 | Loss: 8.2658 | Accuracy: 0.0429\n",
      "Epoch: 1 | Batch: 300 | Loss: 8.0767 | Accuracy: 0.0491\n",
      "Epoch: 1 | Batch: 350 | Loss: 7.8804 | Accuracy: 0.0545\n",
      "Epoch: 1 | Batch: 400 | Loss: 7.6932 | Accuracy: 0.0604\n",
      "Epoch: 1 | Batch: 450 | Loss: 7.5262 | Accuracy: 0.0677\n",
      "Epoch: 1 | Batch: 500 | Loss: 7.3798 | Accuracy: 0.0753\n",
      "Epoch: 1 | Batch: 550 | Loss: 7.2459 | Accuracy: 0.0826\n",
      "Epoch: 1 | Batch: 600 | Loss: 7.1229 | Accuracy: 0.0903\n",
      "Epoch: 1 | Batch: 650 | Loss: 7.0089 | Accuracy: 0.0976\n",
      "Epoch: 1 | Loss: 6.9067 | Accuracy: 0.1041\n",
      "Time taken for 1 epoch: 94.95secs\n",
      "Epoch: 2 | Batch: 0 | Loss: 5.3650 | Accuracy: 0.2092\n",
      "Epoch: 2 | Batch: 50 | Loss: 5.3898 | Accuracy: 0.1997\n",
      "Epoch: 2 | Batch: 100 | Loss: 5.3461 | Accuracy: 0.2029\n",
      "Epoch: 2 | Batch: 150 | Loss: 5.3053 | Accuracy: 0.2078\n",
      "Epoch: 2 | Batch: 200 | Loss: 5.2748 | Accuracy: 0.2108\n",
      "Epoch: 2 | Batch: 250 | Loss: 5.2404 | Accuracy: 0.2139\n",
      "Epoch: 2 | Batch: 300 | Loss: 5.2095 | Accuracy: 0.2172\n",
      "Epoch: 2 | Batch: 350 | Loss: 5.1831 | Accuracy: 0.2200\n",
      "Epoch: 2 | Batch: 400 | Loss: 5.1555 | Accuracy: 0.2228\n",
      "Epoch: 2 | Batch: 450 | Loss: 5.1307 | Accuracy: 0.2252\n",
      "Epoch: 2 | Batch: 500 | Loss: 5.1072 | Accuracy: 0.2275\n",
      "Epoch: 2 | Batch: 550 | Loss: 5.0842 | Accuracy: 0.2299\n",
      "Epoch: 2 | Batch: 600 | Loss: 5.0609 | Accuracy: 0.2321\n",
      "Epoch: 2 | Batch: 650 | Loss: 5.0394 | Accuracy: 0.2340\n",
      "Epoch: 2 | Loss: 5.0196 | Accuracy: 0.2357\n",
      "Time taken for 1 epoch: 83.34secs\n",
      "Epoch: 3 | Batch: 0 | Loss: 4.5911 | Accuracy: 0.2778\n",
      "Epoch: 3 | Batch: 50 | Loss: 4.6616 | Accuracy: 0.2664\n",
      "Epoch: 3 | Batch: 100 | Loss: 4.6570 | Accuracy: 0.2680\n",
      "Epoch: 3 | Batch: 150 | Loss: 4.6562 | Accuracy: 0.2674\n",
      "Epoch: 3 | Batch: 200 | Loss: 4.6459 | Accuracy: 0.2678\n",
      "Epoch: 3 | Batch: 250 | Loss: 4.6363 | Accuracy: 0.2681\n",
      "Epoch: 3 | Batch: 300 | Loss: 4.6302 | Accuracy: 0.2686\n",
      "Epoch: 3 | Batch: 350 | Loss: 4.6195 | Accuracy: 0.2697\n",
      "Epoch: 3 | Batch: 400 | Loss: 4.6056 | Accuracy: 0.2708\n",
      "Epoch: 3 | Batch: 450 | Loss: 4.5950 | Accuracy: 0.2720\n",
      "Epoch: 3 | Batch: 500 | Loss: 4.5805 | Accuracy: 0.2735\n",
      "Epoch: 3 | Batch: 550 | Loss: 4.5683 | Accuracy: 0.2750\n",
      "Epoch: 3 | Batch: 600 | Loss: 4.5559 | Accuracy: 0.2765\n",
      "Epoch: 3 | Batch: 650 | Loss: 4.5433 | Accuracy: 0.2781\n",
      "Epoch: 3 | Loss: 4.5294 | Accuracy: 0.2796\n",
      "Time taken for 1 epoch: 83.53secs\n",
      "Epoch: 4 | Batch: 0 | Loss: 4.2190 | Accuracy: 0.3025\n",
      "Epoch: 4 | Batch: 50 | Loss: 4.2654 | Accuracy: 0.3058\n",
      "Epoch: 4 | Batch: 100 | Loss: 4.2527 | Accuracy: 0.3089\n",
      "Epoch: 4 | Batch: 150 | Loss: 4.2251 | Accuracy: 0.3118\n",
      "Epoch: 4 | Batch: 200 | Loss: 4.2076 | Accuracy: 0.3148\n",
      "Epoch: 4 | Batch: 250 | Loss: 4.1883 | Accuracy: 0.3171\n",
      "Epoch: 4 | Batch: 300 | Loss: 4.1746 | Accuracy: 0.3193\n",
      "Epoch: 4 | Batch: 350 | Loss: 4.1572 | Accuracy: 0.3213\n",
      "Epoch: 4 | Batch: 400 | Loss: 4.1406 | Accuracy: 0.3231\n",
      "Epoch: 4 | Batch: 450 | Loss: 4.1215 | Accuracy: 0.3257\n",
      "Epoch: 4 | Batch: 500 | Loss: 4.1029 | Accuracy: 0.3283\n",
      "Epoch: 4 | Batch: 550 | Loss: 4.0879 | Accuracy: 0.3302\n",
      "Epoch: 4 | Batch: 600 | Loss: 4.0738 | Accuracy: 0.3321\n",
      "Epoch: 4 | Batch: 650 | Loss: 4.0579 | Accuracy: 0.3341\n",
      "Epoch: 4 | Batch: 700 | Loss: 4.0419 | Accuracy: 0.3362\n",
      "Epoch: 4 | Loss: 4.0419 | Accuracy: 0.3362\n",
      "Time taken for 1 epoch: 83.16secs\n",
      "Epoch: 5 | Batch: 0 | Loss: 3.6144 | Accuracy: 0.3818\n",
      "Epoch: 5 | Batch: 50 | Loss: 3.7366 | Accuracy: 0.3717\n",
      "Epoch: 5 | Batch: 100 | Loss: 3.7357 | Accuracy: 0.3715\n",
      "Epoch: 5 | Batch: 150 | Loss: 3.7292 | Accuracy: 0.3731\n",
      "Epoch: 5 | Batch: 200 | Loss: 3.7186 | Accuracy: 0.3751\n",
      "Epoch: 5 | Batch: 250 | Loss: 3.6991 | Accuracy: 0.3777\n",
      "Epoch: 5 | Batch: 300 | Loss: 3.6830 | Accuracy: 0.3797\n",
      "Epoch: 5 | Batch: 350 | Loss: 3.6687 | Accuracy: 0.3814\n",
      "Epoch: 5 | Batch: 400 | Loss: 3.6521 | Accuracy: 0.3837\n",
      "Epoch: 5 | Batch: 450 | Loss: 3.6405 | Accuracy: 0.3855\n",
      "Epoch: 5 | Batch: 500 | Loss: 3.6313 | Accuracy: 0.3868\n",
      "Epoch: 5 | Batch: 550 | Loss: 3.6194 | Accuracy: 0.3884\n",
      "Epoch: 5 | Batch: 600 | Loss: 3.6076 | Accuracy: 0.3900\n",
      "Epoch: 5 | Batch: 650 | Loss: 3.5972 | Accuracy: 0.3914\n",
      "Epoch: 5 | Batch: 700 | Loss: 3.5844 | Accuracy: 0.3930\n",
      "Saving checkpoint for epoch 5 at ckpts/checkpoints/train\\ckpt-1\n",
      "Epoch: 5 | Loss: 3.5844 | Accuracy: 0.3930\n",
      "Time taken for 1 epoch: 83.97secs\n",
      "Epoch: 6 | Batch: 0 | Loss: 3.3999 | Accuracy: 0.4012\n",
      "Epoch: 6 | Batch: 50 | Loss: 3.3482 | Accuracy: 0.4195\n",
      "Epoch: 6 | Batch: 100 | Loss: 3.3105 | Accuracy: 0.4234\n",
      "Epoch: 6 | Batch: 150 | Loss: 3.3029 | Accuracy: 0.4253\n",
      "Epoch: 6 | Batch: 200 | Loss: 3.2919 | Accuracy: 0.4263\n",
      "Epoch: 6 | Batch: 250 | Loss: 3.2869 | Accuracy: 0.4270\n",
      "Epoch: 6 | Batch: 300 | Loss: 3.2807 | Accuracy: 0.4284\n",
      "Epoch: 6 | Batch: 350 | Loss: 3.2722 | Accuracy: 0.4301\n",
      "Epoch: 6 | Batch: 400 | Loss: 3.2685 | Accuracy: 0.4306\n",
      "Epoch: 6 | Batch: 450 | Loss: 3.2607 | Accuracy: 0.4315\n",
      "Epoch: 6 | Batch: 500 | Loss: 3.2554 | Accuracy: 0.4322\n",
      "Epoch: 6 | Batch: 550 | Loss: 3.2447 | Accuracy: 0.4337\n",
      "Epoch: 6 | Batch: 600 | Loss: 3.2368 | Accuracy: 0.4346\n",
      "Epoch: 6 | Batch: 650 | Loss: 3.2269 | Accuracy: 0.4361\n",
      "Epoch: 6 | Loss: 3.2171 | Accuracy: 0.4374\n",
      "Time taken for 1 epoch: 83.54secs\n",
      "Epoch: 7 | Batch: 0 | Loss: 2.9154 | Accuracy: 0.4734\n",
      "Epoch: 7 | Batch: 50 | Loss: 2.9619 | Accuracy: 0.4680\n",
      "Epoch: 7 | Batch: 100 | Loss: 2.9515 | Accuracy: 0.4700\n",
      "Epoch: 7 | Batch: 150 | Loss: 2.9581 | Accuracy: 0.4698\n",
      "Epoch: 7 | Batch: 200 | Loss: 2.9487 | Accuracy: 0.4710\n",
      "Epoch: 7 | Batch: 250 | Loss: 2.9360 | Accuracy: 0.4724\n",
      "Epoch: 7 | Batch: 300 | Loss: 2.9231 | Accuracy: 0.4740\n",
      "Epoch: 7 | Batch: 350 | Loss: 2.9206 | Accuracy: 0.4745\n",
      "Epoch: 7 | Batch: 400 | Loss: 2.9126 | Accuracy: 0.4755\n",
      "Epoch: 7 | Batch: 450 | Loss: 2.9052 | Accuracy: 0.4767\n",
      "Epoch: 7 | Batch: 500 | Loss: 2.8993 | Accuracy: 0.4776\n",
      "Epoch: 7 | Batch: 550 | Loss: 2.8935 | Accuracy: 0.4783\n",
      "Epoch: 7 | Batch: 600 | Loss: 2.8836 | Accuracy: 0.4799\n",
      "Epoch: 7 | Batch: 650 | Loss: 2.8776 | Accuracy: 0.4807\n",
      "Epoch: 7 | Batch: 700 | Loss: 2.8692 | Accuracy: 0.4819\n",
      "Epoch: 7 | Loss: 2.8685 | Accuracy: 0.4820\n",
      "Time taken for 1 epoch: 84.87secs\n",
      "Epoch: 8 | Batch: 0 | Loss: 2.7971 | Accuracy: 0.4811\n",
      "Epoch: 8 | Batch: 50 | Loss: 2.6654 | Accuracy: 0.5020\n",
      "Epoch: 8 | Batch: 100 | Loss: 2.6348 | Accuracy: 0.5091\n",
      "Epoch: 8 | Batch: 150 | Loss: 2.6198 | Accuracy: 0.5125\n",
      "Epoch: 8 | Batch: 200 | Loss: 2.6189 | Accuracy: 0.5133\n",
      "Epoch: 8 | Batch: 250 | Loss: 2.6179 | Accuracy: 0.5134\n",
      "Epoch: 8 | Batch: 300 | Loss: 2.6104 | Accuracy: 0.5144\n",
      "Epoch: 8 | Batch: 350 | Loss: 2.6069 | Accuracy: 0.5153\n",
      "Epoch: 8 | Batch: 400 | Loss: 2.6075 | Accuracy: 0.5153\n",
      "Epoch: 8 | Batch: 450 | Loss: 2.6051 | Accuracy: 0.5157\n",
      "Epoch: 8 | Batch: 500 | Loss: 2.6012 | Accuracy: 0.5164\n",
      "Epoch: 8 | Batch: 550 | Loss: 2.6001 | Accuracy: 0.5167\n",
      "Epoch: 8 | Batch: 600 | Loss: 2.5967 | Accuracy: 0.5171\n",
      "Epoch: 8 | Batch: 650 | Loss: 2.5916 | Accuracy: 0.5178\n",
      "Epoch: 8 | Loss: 2.5899 | Accuracy: 0.5182\n",
      "Time taken for 1 epoch: 82.24secs\n",
      "Epoch: 9 | Batch: 0 | Loss: 2.4319 | Accuracy: 0.5443\n",
      "Epoch: 9 | Batch: 50 | Loss: 2.3913 | Accuracy: 0.5395\n",
      "Epoch: 9 | Batch: 100 | Loss: 2.3970 | Accuracy: 0.5408\n",
      "Epoch: 9 | Batch: 150 | Loss: 2.3971 | Accuracy: 0.5412\n",
      "Epoch: 9 | Batch: 200 | Loss: 2.4070 | Accuracy: 0.5406\n",
      "Epoch: 9 | Batch: 250 | Loss: 2.4021 | Accuracy: 0.5416\n",
      "Epoch: 9 | Batch: 300 | Loss: 2.4048 | Accuracy: 0.5413\n",
      "Epoch: 9 | Batch: 350 | Loss: 2.4029 | Accuracy: 0.5419\n",
      "Epoch: 9 | Batch: 400 | Loss: 2.3995 | Accuracy: 0.5426\n",
      "Epoch: 9 | Batch: 450 | Loss: 2.3969 | Accuracy: 0.5429\n",
      "Epoch: 9 | Batch: 500 | Loss: 2.3930 | Accuracy: 0.5437\n",
      "Epoch: 9 | Batch: 550 | Loss: 2.3918 | Accuracy: 0.5440\n",
      "Epoch: 9 | Batch: 600 | Loss: 2.3901 | Accuracy: 0.5442\n",
      "Epoch: 9 | Batch: 650 | Loss: 2.3887 | Accuracy: 0.5444\n",
      "Epoch: 9 | Loss: 2.3894 | Accuracy: 0.5446\n",
      "Time taken for 1 epoch: 83.50secs\n",
      "Epoch: 10 | Batch: 0 | Loss: 2.1715 | Accuracy: 0.5678\n",
      "Epoch: 10 | Batch: 50 | Loss: 2.2327 | Accuracy: 0.5635\n",
      "Epoch: 10 | Batch: 100 | Loss: 2.2327 | Accuracy: 0.5640\n",
      "Epoch: 10 | Batch: 150 | Loss: 2.2258 | Accuracy: 0.5652\n",
      "Epoch: 10 | Batch: 200 | Loss: 2.2272 | Accuracy: 0.5653\n",
      "Epoch: 10 | Batch: 250 | Loss: 2.2313 | Accuracy: 0.5645\n",
      "Epoch: 10 | Batch: 300 | Loss: 2.2347 | Accuracy: 0.5639\n",
      "Epoch: 10 | Batch: 350 | Loss: 2.2302 | Accuracy: 0.5646\n",
      "Epoch: 10 | Batch: 400 | Loss: 2.2272 | Accuracy: 0.5654\n",
      "Epoch: 10 | Batch: 450 | Loss: 2.2306 | Accuracy: 0.5649\n",
      "Epoch: 10 | Batch: 500 | Loss: 2.2311 | Accuracy: 0.5648\n",
      "Epoch: 10 | Batch: 550 | Loss: 2.2298 | Accuracy: 0.5651\n",
      "Epoch: 10 | Batch: 600 | Loss: 2.2325 | Accuracy: 0.5648\n",
      "Epoch: 10 | Batch: 650 | Loss: 2.2326 | Accuracy: 0.5650\n",
      "Epoch: 10 | Batch: 700 | Loss: 2.2331 | Accuracy: 0.5651\n",
      "Saving checkpoint for epoch 10 at ckpts/checkpoints/train\\ckpt-2\n",
      "Epoch: 10 | Loss: 2.2331 | Accuracy: 0.5651\n",
      "Time taken for 1 epoch: 83.73secs\n",
      "Epoch: 11 | Batch: 0 | Loss: 1.8720 | Accuracy: 0.6162\n",
      "Epoch: 11 | Batch: 50 | Loss: 2.0730 | Accuracy: 0.5871\n",
      "Epoch: 11 | Batch: 100 | Loss: 2.0713 | Accuracy: 0.5876\n",
      "Epoch: 11 | Batch: 150 | Loss: 2.0851 | Accuracy: 0.5850\n",
      "Epoch: 11 | Batch: 200 | Loss: 2.0979 | Accuracy: 0.5831\n",
      "Epoch: 11 | Batch: 250 | Loss: 2.1034 | Accuracy: 0.5826\n",
      "Epoch: 11 | Batch: 300 | Loss: 2.0995 | Accuracy: 0.5837\n",
      "Epoch: 11 | Batch: 350 | Loss: 2.1065 | Accuracy: 0.5823\n",
      "Epoch: 11 | Batch: 400 | Loss: 2.1071 | Accuracy: 0.5823\n",
      "Epoch: 11 | Batch: 450 | Loss: 2.1077 | Accuracy: 0.5822\n",
      "Epoch: 11 | Batch: 500 | Loss: 2.1067 | Accuracy: 0.5826\n",
      "Epoch: 11 | Batch: 550 | Loss: 2.1069 | Accuracy: 0.5828\n",
      "Epoch: 11 | Batch: 600 | Loss: 2.1092 | Accuracy: 0.5824\n",
      "Epoch: 11 | Batch: 650 | Loss: 2.1092 | Accuracy: 0.5827\n",
      "Epoch: 11 | Loss: 2.1091 | Accuracy: 0.5829\n",
      "Time taken for 1 epoch: 83.80secs\n",
      "Epoch: 12 | Batch: 0 | Loss: 1.8137 | Accuracy: 0.6154\n",
      "Epoch: 12 | Batch: 50 | Loss: 1.9670 | Accuracy: 0.6017\n",
      "Epoch: 12 | Batch: 100 | Loss: 1.9718 | Accuracy: 0.6011\n",
      "Epoch: 12 | Batch: 150 | Loss: 1.9761 | Accuracy: 0.6011\n",
      "Epoch: 12 | Batch: 200 | Loss: 1.9821 | Accuracy: 0.6009\n",
      "Epoch: 12 | Batch: 250 | Loss: 1.9839 | Accuracy: 0.6004\n",
      "Epoch: 12 | Batch: 300 | Loss: 1.9883 | Accuracy: 0.5997\n",
      "Epoch: 12 | Batch: 350 | Loss: 1.9860 | Accuracy: 0.6000\n",
      "Epoch: 12 | Batch: 400 | Loss: 1.9891 | Accuracy: 0.5995\n",
      "Epoch: 12 | Batch: 450 | Loss: 1.9886 | Accuracy: 0.5995\n",
      "Epoch: 12 | Batch: 500 | Loss: 1.9914 | Accuracy: 0.5991\n",
      "Epoch: 12 | Batch: 550 | Loss: 1.9939 | Accuracy: 0.5990\n",
      "Epoch: 12 | Batch: 600 | Loss: 1.9955 | Accuracy: 0.5989\n",
      "Epoch: 12 | Batch: 650 | Loss: 1.9979 | Accuracy: 0.5986\n",
      "Epoch: 12 | Batch: 700 | Loss: 2.0004 | Accuracy: 0.5983\n",
      "Epoch: 12 | Loss: 2.0007 | Accuracy: 0.5983\n",
      "Time taken for 1 epoch: 84.42secs\n",
      "Epoch: 13 | Batch: 0 | Loss: 1.9734 | Accuracy: 0.6012\n",
      "Epoch: 13 | Batch: 50 | Loss: 1.9119 | Accuracy: 0.6072\n",
      "Epoch: 13 | Batch: 100 | Loss: 1.9038 | Accuracy: 0.6095\n",
      "Epoch: 13 | Batch: 150 | Loss: 1.8983 | Accuracy: 0.6113\n",
      "Epoch: 13 | Batch: 200 | Loss: 1.8972 | Accuracy: 0.6119\n",
      "Epoch: 13 | Batch: 250 | Loss: 1.8942 | Accuracy: 0.6130\n",
      "Epoch: 13 | Batch: 300 | Loss: 1.8997 | Accuracy: 0.6121\n",
      "Epoch: 13 | Batch: 350 | Loss: 1.9005 | Accuracy: 0.6122\n",
      "Epoch: 13 | Batch: 400 | Loss: 1.9025 | Accuracy: 0.6119\n",
      "Epoch: 13 | Batch: 450 | Loss: 1.9065 | Accuracy: 0.6111\n",
      "Epoch: 13 | Batch: 500 | Loss: 1.9060 | Accuracy: 0.6115\n",
      "Epoch: 13 | Batch: 550 | Loss: 1.9093 | Accuracy: 0.6111\n",
      "Epoch: 13 | Batch: 600 | Loss: 1.9106 | Accuracy: 0.6108\n",
      "Epoch: 13 | Batch: 650 | Loss: 1.9122 | Accuracy: 0.6106\n",
      "Epoch: 13 | Loss: 1.9147 | Accuracy: 0.6102\n",
      "Time taken for 1 epoch: 84.19secs\n",
      "Epoch: 14 | Batch: 0 | Loss: 1.8383 | Accuracy: 0.6347\n",
      "Epoch: 14 | Batch: 50 | Loss: 1.8057 | Accuracy: 0.6246\n",
      "Epoch: 14 | Batch: 100 | Loss: 1.7931 | Accuracy: 0.6269\n",
      "Epoch: 14 | Batch: 150 | Loss: 1.7986 | Accuracy: 0.6263\n",
      "Epoch: 14 | Batch: 200 | Loss: 1.8103 | Accuracy: 0.6250\n",
      "Epoch: 14 | Batch: 250 | Loss: 1.8105 | Accuracy: 0.6249\n",
      "Epoch: 14 | Batch: 300 | Loss: 1.8161 | Accuracy: 0.6245\n",
      "Epoch: 14 | Batch: 350 | Loss: 1.8206 | Accuracy: 0.6239\n",
      "Epoch: 14 | Batch: 400 | Loss: 1.8249 | Accuracy: 0.6231\n",
      "Epoch: 14 | Batch: 450 | Loss: 1.8286 | Accuracy: 0.6226\n",
      "Epoch: 14 | Batch: 500 | Loss: 1.8315 | Accuracy: 0.6221\n",
      "Epoch: 14 | Batch: 550 | Loss: 1.8347 | Accuracy: 0.6216\n",
      "Epoch: 14 | Batch: 600 | Loss: 1.8357 | Accuracy: 0.6216\n",
      "Epoch: 14 | Batch: 650 | Loss: 1.8393 | Accuracy: 0.6212\n",
      "Epoch: 14 | Batch: 700 | Loss: 1.8412 | Accuracy: 0.6210\n",
      "Epoch: 14 | Loss: 1.8417 | Accuracy: 0.6210\n",
      "Time taken for 1 epoch: 84.58secs\n",
      "Epoch: 15 | Batch: 0 | Loss: 1.8984 | Accuracy: 0.6048\n",
      "Epoch: 15 | Batch: 50 | Loss: 1.7566 | Accuracy: 0.6308\n",
      "Epoch: 15 | Batch: 100 | Loss: 1.7365 | Accuracy: 0.6345\n",
      "Epoch: 15 | Batch: 150 | Loss: 1.7412 | Accuracy: 0.6344\n",
      "Epoch: 15 | Batch: 200 | Loss: 1.7470 | Accuracy: 0.6334\n",
      "Epoch: 15 | Batch: 250 | Loss: 1.7480 | Accuracy: 0.6335\n",
      "Epoch: 15 | Batch: 300 | Loss: 1.7480 | Accuracy: 0.6336\n",
      "Epoch: 15 | Batch: 350 | Loss: 1.7520 | Accuracy: 0.6329\n",
      "Epoch: 15 | Batch: 400 | Loss: 1.7548 | Accuracy: 0.6325\n",
      "Epoch: 15 | Batch: 450 | Loss: 1.7582 | Accuracy: 0.6321\n",
      "Epoch: 15 | Batch: 500 | Loss: 1.7585 | Accuracy: 0.6323\n",
      "Epoch: 15 | Batch: 550 | Loss: 1.7626 | Accuracy: 0.6318\n",
      "Epoch: 15 | Batch: 600 | Loss: 1.7631 | Accuracy: 0.6319\n",
      "Epoch: 15 | Batch: 650 | Loss: 1.7643 | Accuracy: 0.6318\n",
      "Epoch: 15 | Batch: 700 | Loss: 1.7685 | Accuracy: 0.6313\n",
      "Saving checkpoint for epoch 15 at ckpts/checkpoints/train\\ckpt-3\n",
      "Epoch: 15 | Loss: 1.7689 | Accuracy: 0.6313\n",
      "Time taken for 1 epoch: 84.72secs\n",
      "Epoch: 16 | Batch: 0 | Loss: 1.5807 | Accuracy: 0.6545\n",
      "Epoch: 16 | Batch: 50 | Loss: 1.6806 | Accuracy: 0.6424\n",
      "Epoch: 16 | Batch: 100 | Loss: 1.6690 | Accuracy: 0.6452\n",
      "Epoch: 16 | Batch: 150 | Loss: 1.6738 | Accuracy: 0.6451\n",
      "Epoch: 16 | Batch: 200 | Loss: 1.6779 | Accuracy: 0.6445\n",
      "Epoch: 16 | Batch: 250 | Loss: 1.6859 | Accuracy: 0.6432\n",
      "Epoch: 16 | Batch: 300 | Loss: 1.6896 | Accuracy: 0.6426\n",
      "Epoch: 16 | Batch: 350 | Loss: 1.6971 | Accuracy: 0.6416\n",
      "Epoch: 16 | Batch: 400 | Loss: 1.6980 | Accuracy: 0.6413\n",
      "Epoch: 16 | Batch: 450 | Loss: 1.6953 | Accuracy: 0.6419\n",
      "Epoch: 16 | Batch: 500 | Loss: 1.6949 | Accuracy: 0.6421\n",
      "Epoch: 16 | Batch: 550 | Loss: 1.7004 | Accuracy: 0.6413\n",
      "Epoch: 16 | Batch: 600 | Loss: 1.7025 | Accuracy: 0.6411\n",
      "Epoch: 16 | Batch: 650 | Loss: 1.7066 | Accuracy: 0.6405\n",
      "Epoch: 16 | Batch: 700 | Loss: 1.7085 | Accuracy: 0.6404\n",
      "Epoch: 16 | Loss: 1.7082 | Accuracy: 0.6404\n",
      "Time taken for 1 epoch: 83.78secs\n",
      "Epoch: 17 | Batch: 0 | Loss: 1.5069 | Accuracy: 0.6686\n",
      "Epoch: 17 | Batch: 50 | Loss: 1.6182 | Accuracy: 0.6533\n",
      "Epoch: 17 | Batch: 100 | Loss: 1.6206 | Accuracy: 0.6526\n",
      "Epoch: 17 | Batch: 150 | Loss: 1.6166 | Accuracy: 0.6534\n",
      "Epoch: 17 | Batch: 200 | Loss: 1.6229 | Accuracy: 0.6531\n",
      "Epoch: 17 | Batch: 250 | Loss: 1.6290 | Accuracy: 0.6521\n",
      "Epoch: 17 | Batch: 300 | Loss: 1.6328 | Accuracy: 0.6518\n",
      "Epoch: 17 | Batch: 350 | Loss: 1.6320 | Accuracy: 0.6519\n",
      "Epoch: 17 | Batch: 400 | Loss: 1.6351 | Accuracy: 0.6516\n",
      "Epoch: 17 | Batch: 450 | Loss: 1.6395 | Accuracy: 0.6508\n",
      "Epoch: 17 | Batch: 500 | Loss: 1.6440 | Accuracy: 0.6500\n",
      "Epoch: 17 | Batch: 550 | Loss: 1.6485 | Accuracy: 0.6491\n",
      "Epoch: 17 | Batch: 600 | Loss: 1.6488 | Accuracy: 0.6493\n",
      "Epoch: 17 | Batch: 650 | Loss: 1.6523 | Accuracy: 0.6488\n",
      "Epoch: 17 | Loss: 1.6542 | Accuracy: 0.6486\n",
      "Time taken for 1 epoch: 83.21secs\n",
      "Epoch: 18 | Batch: 0 | Loss: 1.3933 | Accuracy: 0.6888\n",
      "Epoch: 18 | Batch: 50 | Loss: 1.5781 | Accuracy: 0.6574\n",
      "Epoch: 18 | Batch: 100 | Loss: 1.5647 | Accuracy: 0.6612\n",
      "Epoch: 18 | Batch: 150 | Loss: 1.5662 | Accuracy: 0.6615\n",
      "Epoch: 18 | Batch: 200 | Loss: 1.5706 | Accuracy: 0.6603\n",
      "Epoch: 18 | Batch: 250 | Loss: 1.5799 | Accuracy: 0.6589\n",
      "Epoch: 18 | Batch: 300 | Loss: 1.5837 | Accuracy: 0.6587\n",
      "Epoch: 18 | Batch: 350 | Loss: 1.5837 | Accuracy: 0.6588\n",
      "Epoch: 18 | Batch: 400 | Loss: 1.5866 | Accuracy: 0.6585\n",
      "Epoch: 18 | Batch: 450 | Loss: 1.5900 | Accuracy: 0.6584\n",
      "Epoch: 18 | Batch: 500 | Loss: 1.5934 | Accuracy: 0.6579\n",
      "Epoch: 18 | Batch: 550 | Loss: 1.5967 | Accuracy: 0.6573\n",
      "Epoch: 18 | Batch: 600 | Loss: 1.6006 | Accuracy: 0.6566\n",
      "Epoch: 18 | Batch: 650 | Loss: 1.6042 | Accuracy: 0.6564\n",
      "Epoch: 18 | Batch: 700 | Loss: 1.6067 | Accuracy: 0.6560\n",
      "Epoch: 18 | Loss: 1.6067 | Accuracy: 0.6560\n",
      "Time taken for 1 epoch: 83.45secs\n",
      "Epoch: 19 | Batch: 0 | Loss: 1.4047 | Accuracy: 0.7087\n",
      "Epoch: 19 | Batch: 50 | Loss: 1.5170 | Accuracy: 0.6698\n",
      "Epoch: 19 | Batch: 100 | Loss: 1.5279 | Accuracy: 0.6687\n",
      "Epoch: 19 | Batch: 150 | Loss: 1.5288 | Accuracy: 0.6682\n",
      "Epoch: 19 | Batch: 200 | Loss: 1.5322 | Accuracy: 0.6673\n",
      "Epoch: 19 | Batch: 250 | Loss: 1.5381 | Accuracy: 0.6665\n",
      "Epoch: 19 | Batch: 300 | Loss: 1.5410 | Accuracy: 0.6660\n",
      "Epoch: 19 | Batch: 350 | Loss: 1.5460 | Accuracy: 0.6652\n",
      "Epoch: 19 | Batch: 400 | Loss: 1.5478 | Accuracy: 0.6650\n",
      "Epoch: 19 | Batch: 450 | Loss: 1.5500 | Accuracy: 0.6645\n",
      "Epoch: 19 | Batch: 500 | Loss: 1.5512 | Accuracy: 0.6645\n",
      "Epoch: 19 | Batch: 550 | Loss: 1.5544 | Accuracy: 0.6640\n",
      "Epoch: 19 | Batch: 600 | Loss: 1.5584 | Accuracy: 0.6635\n",
      "Epoch: 19 | Batch: 650 | Loss: 1.5609 | Accuracy: 0.6632\n",
      "Epoch: 19 | Batch: 700 | Loss: 1.5657 | Accuracy: 0.6625\n",
      "Epoch: 19 | Loss: 1.5663 | Accuracy: 0.6623\n",
      "Time taken for 1 epoch: 84.74secs\n",
      "Epoch: 20 | Batch: 0 | Loss: 1.6626 | Accuracy: 0.6483\n",
      "Epoch: 20 | Batch: 50 | Loss: 1.4843 | Accuracy: 0.6749\n",
      "Epoch: 20 | Batch: 100 | Loss: 1.4859 | Accuracy: 0.6751\n",
      "Epoch: 20 | Batch: 150 | Loss: 1.4851 | Accuracy: 0.6755\n",
      "Epoch: 20 | Batch: 200 | Loss: 1.4909 | Accuracy: 0.6746\n",
      "Epoch: 20 | Batch: 250 | Loss: 1.4963 | Accuracy: 0.6737\n",
      "Epoch: 20 | Batch: 300 | Loss: 1.5005 | Accuracy: 0.6729\n",
      "Epoch: 20 | Batch: 350 | Loss: 1.5051 | Accuracy: 0.6719\n",
      "Epoch: 20 | Batch: 400 | Loss: 1.5070 | Accuracy: 0.6717\n",
      "Epoch: 20 | Batch: 450 | Loss: 1.5137 | Accuracy: 0.6706\n",
      "Epoch: 20 | Batch: 500 | Loss: 1.5145 | Accuracy: 0.6705\n",
      "Epoch: 20 | Batch: 550 | Loss: 1.5167 | Accuracy: 0.6701\n",
      "Epoch: 20 | Batch: 600 | Loss: 1.5182 | Accuracy: 0.6699\n",
      "Epoch: 20 | Batch: 650 | Loss: 1.5223 | Accuracy: 0.6693\n",
      "Epoch: 20 | Batch: 700 | Loss: 1.5255 | Accuracy: 0.6690\n",
      "Saving checkpoint for epoch 20 at ckpts/checkpoints/train\\ckpt-4\n",
      "Epoch: 20 | Loss: 1.5254 | Accuracy: 0.6690\n",
      "Time taken for 1 epoch: 85.65secs\n"
     ]
    }
   ],
   "source": [
    "for epoch in range(EPOCHS):\n",
    "    start = time.time()\n",
    "\n",
    "    train_loss.reset_states()\n",
    "    train_accuracy.reset_states()\n",
    "\n",
    "    # Inp -> portuguese, tar -> english\n",
    "    for (batch, (inp, tar)) in enumerate(train_batches):\n",
    "        train_step(inp, tar)\n",
    "\n",
    "        if batch % 50 == 0:\n",
    "            print(f'Epoch: {epoch + 1} | Batch: {batch} | Loss: {train_loss.result():.4f} | Accuracy: {train_accuracy.result():.4f}')\n",
    "\n",
    "    if (epoch + 1) % 5 == 0:\n",
    "        ckpt_save_path = ckpt_manager.save()\n",
    "        print(f'Saving checkpoint for epoch {epoch + 1} at {ckpt_save_path}')\n",
    "\n",
    "    print(f'Epoch: {epoch + 1} | Loss: {train_loss.result():.4f} | Accuracy: {train_accuracy.result():.4f}')\n",
    "    print(f'Time taken for 1 epoch: {time.time() - start:.2f} secs')"
   ]
  },
  {
   "cell_type": "code",
   "execution_count": 66,
   "metadata": {},
   "outputs": [],
   "source": [
    "class Translator(tf.Module):\n",
    "    def __init__(self, tokenizers, transformer):\n",
    "        self.tokenizers = tokenizers\n",
    "        self.transformer = transformer\n",
    "\n",
    "    def __call__(self, sentence, max_length=MAX_TOKENS):\n",
    "        # Input sentence as portuguese, hence adding the start and end token\n",
    "        assert isinstance(sentence, tf.Tensor)\n",
    "\n",
    "        if len(sentence.shape) == 0:\n",
    "            sentence = sentence[tf.newaxis]\n",
    "\n",
    "        sentence = self.tokenizers.pt.tokenize(sentence).to_tensor()\n",
    "        encoder_input = sentence\n",
    "\n",
    "        # As the output language is english, initialize the output with the english start token\n",
    "        start_end = self.tokenizers.en.tokenize([''])[0]\n",
    "        start = start_end[0][tf.newaxis]\n",
    "        end = start_end[1][tf.newaxis]\n",
    "\n",
    "        # `tf.TensorArray` is required here (instead of a python list) so that the dynamic-loop can be traced by `tf.function`\n",
    "        output_array = tf.TensorArray(dtype=tf.int64, size=0, dynamic_size=True)\n",
    "        output_array = output_array.write(0, start)\n",
    "\n",
    "        for i in tf.range(max_length):\n",
    "            output = tf.transpose(output_array.stack())\n",
    "            predictions, _ = self.transformer([encoder_input, output], training=False)\n",
    "\n",
    "            # Select the last token from the seq_len dimension\n",
    "            predictions = predictions[:, -1:, :] # (batch_size, 1, vocab_size)\n",
    "            predicted_id = tf.argmax(predictions, axis=-1)\n",
    "\n",
    "            # Concatenate the predicted_id to the output which is given to the decoder as its input\n",
    "            output_array = output_array.write(i + 1, predicted_id[0])\n",
    "\n",
    "            if predicted_id == end:\n",
    "                break\n",
    "\n",
    "        output = tf.transpose(output_array.stack())\n",
    "\n",
    "        # output.shape (1, tokens)\n",
    "        text = tokenizers.en.detokenize(output)[0] # Shape ()\n",
    "        tokens = tokenizers.en.lookup(output)[0]\n",
    "\n",
    "        # `tf.function` prevents us from using the attention_weights that were calculated on the last iteration of the loop. So recalculate them outside the loop\n",
    "        _, attention_weights = self.transformer([encoder_input, output[:, :-1]], training=False)\n",
    "\n",
    "        return text, tokens, attention_weights"
   ]
  },
  {
   "cell_type": "code",
   "execution_count": 67,
   "metadata": {},
   "outputs": [],
   "source": [
    "translator = Translator(tokenizers, transformer)"
   ]
  },
  {
   "cell_type": "code",
   "execution_count": 69,
   "metadata": {},
   "outputs": [],
   "source": [
    "def print_translation(sentence, tokens, ground_truth):\n",
    "    print(f'{\"Input:\":15s}: {sentence}')\n",
    "    print(f'{\"Prediction:\":15s}: {tokens.numpy().decode(\"utf-8\")}')\n",
    "    print(f'{\"Ground truth:\":15s}: {ground_truth}')"
   ]
  },
  {
   "cell_type": "code",
   "execution_count": 70,
   "metadata": {},
   "outputs": [
    {
     "name": "stdout",
     "output_type": "stream",
     "text": [
      "Input:         : este é um problema que temos que resolver.\n",
      "Prediction:    : this is a problem that we have to solve .\n",
      "Ground truth:  : this is a problem we have to solve.\n"
     ]
    }
   ],
   "source": [
    "sentence = 'este é um problema que temos que resolver.'\n",
    "ground_truth = 'this is a problem we have to solve.'\n",
    "\n",
    "translated_text, translated_tokens, attention_weights = translator(tf.constant(sentence))\n",
    "\n",
    "print_translation(sentence, translated_text, ground_truth)"
   ]
  },
  {
   "cell_type": "code",
   "execution_count": 71,
   "metadata": {},
   "outputs": [
    {
     "name": "stdout",
     "output_type": "stream",
     "text": [
      "Input:         : os meus vizinhos ouviram sobre esta ideia.\n",
      "Prediction:    : my neighbors heard about this idea .\n",
      "Ground truth:  : and my neighboring homes heard about this idea.\n"
     ]
    }
   ],
   "source": [
    "sentence = 'os meus vizinhos ouviram sobre esta ideia.'\n",
    "ground_truth = 'and my neighboring homes heard about this idea.'\n",
    "\n",
    "translated_text, translated_tokens, attention_weights = translator(tf.constant(sentence))\n",
    "\n",
    "print_translation(sentence, translated_text, ground_truth)"
   ]
  },
  {
   "cell_type": "code",
   "execution_count": 72,
   "metadata": {},
   "outputs": [
    {
     "name": "stdout",
     "output_type": "stream",
     "text": [
      "Input:         : vou então muito rapidamente partilhar convosco algumas histórias de algumas coisas mágicas que aconteceram.\n",
      "Prediction:    : so i ' m so quickly to share with you some stories of some magic things that happened .\n",
      "Ground truth:  : so i'll just share with you some stories very quickly of some magical things that have happened.\n"
     ]
    }
   ],
   "source": [
    "sentence = 'vou então muito rapidamente partilhar convosco algumas histórias de algumas coisas mágicas que aconteceram.'\n",
    "ground_truth = \"so i'll just share with you some stories very quickly of some magical things that have happened.\"\n",
    "\n",
    "translated_text, translated_tokens, attention_weights = translator(tf.constant(sentence))\n",
    "\n",
    "print_translation(sentence, translated_text, ground_truth)"
   ]
  },
  {
   "cell_type": "code",
   "execution_count": 73,
   "metadata": {},
   "outputs": [
    {
     "name": "stdout",
     "output_type": "stream",
     "text": [
      "Input:         : este é o primeiro livro que eu fiz.\n",
      "Prediction:    : this is the first book i did .\n",
      "Ground truth:  : this is the first book i've ever done.\n"
     ]
    }
   ],
   "source": [
    "sentence = 'este é o primeiro livro que eu fiz.'\n",
    "ground_truth = \"this is the first book i've ever done.\"\n",
    "\n",
    "translated_text, translated_tokens, attention_weights = translator(tf.constant(sentence))\n",
    "\n",
    "print_translation(sentence, translated_text, ground_truth)"
   ]
  },
  {
   "cell_type": "code",
   "execution_count": 74,
   "metadata": {},
   "outputs": [],
   "source": [
    "def plot_attention_head(in_tokens, translated_tokens, attention):\n",
    "    # The plot is of the attention when a tooken was generated. The model didn't generate `<START>` in the output. Skip it\n",
    "    translated_tokens = translated_tokens[1:]\n",
    "\n",
    "    ax = plt.gca()\n",
    "    ax.matshow(attention)\n",
    "    ax.set_xticks(range(len(in_tokens)))\n",
    "    ax.set_yticks(range(len(translated_tokens)))\n",
    "\n",
    "    labels = [label.decode('utf8') for label in in_tokens.numpy()]\n",
    "    ax.set_xticklabels(labels, rotation=90)\n",
    "\n",
    "    labels = [label.decode('utf8') for label in translated_tokens.numpy()]\n",
    "    ax.set_yticklabels(labels)"
   ]
  },
  {
   "cell_type": "code",
   "execution_count": 76,
   "metadata": {},
   "outputs": [
    {
     "data": {
      "text/plain": [
       "TensorShape([9, 11])"
      ]
     },
     "execution_count": 76,
     "metadata": {},
     "output_type": "execute_result"
    }
   ],
   "source": [
    "head = 0\n",
    "\n",
    "# Shape: (batch=1, num_heads, seq_len_q, seq_len_k)\n",
    "attention_heads = tf.squeeze(attention_weights['decoder_layer4_block2'], 0)\n",
    "attention = attention_heads[head]\n",
    "attention.shape"
   ]
  },
  {
   "cell_type": "code",
   "execution_count": 77,
   "metadata": {},
   "outputs": [
    {
     "data": {
      "text/plain": [
       "<tf.Tensor: shape=(11,), dtype=string, numpy=\n",
       "array([b'[START]', b'este', b'e', b'o', b'primeiro', b'livro', b'que',\n",
       "       b'eu', b'fiz', b'.', b'[END]'], dtype=object)>"
      ]
     },
     "execution_count": 77,
     "metadata": {},
     "output_type": "execute_result"
    }
   ],
   "source": [
    "in_tokens = tf.convert_to_tensor([sentence])\n",
    "in_tokens = tokenizers.pt.tokenize(in_tokens).to_tensor()\n",
    "in_tokens = tokenizers.pt.lookup(in_tokens)[0]\n",
    "in_tokens"
   ]
  },
  {
   "cell_type": "code",
   "execution_count": 78,
   "metadata": {},
   "outputs": [
    {
     "data": {
      "text/plain": [
       "<tf.Tensor: shape=(10,), dtype=string, numpy=\n",
       "array([b'[START]', b'this', b'is', b'the', b'first', b'book', b'i',\n",
       "       b'did', b'.', b'[END]'], dtype=object)>"
      ]
     },
     "execution_count": 78,
     "metadata": {},
     "output_type": "execute_result"
    }
   ],
   "source": [
    "translated_tokens"
   ]
  },
  {
   "cell_type": "code",
   "execution_count": 79,
   "metadata": {},
   "outputs": [
    {
     "data": {
      "image/png": "[encoded data removed]",
      "text/plain": [
       "<Figure size 432x288 with 1 Axes>"
      ]
     },
     "metadata": {
      "needs_background": "light"
     },
     "output_type": "display_data"
    }
   ],
   "source": [
    "plot_attention_head(in_tokens, translated_tokens, attention)"
   ]
  },
  {
   "cell_type": "code",
   "execution_count": 80,
   "metadata": {},
   "outputs": [],
   "source": [
    "def plot_attention_weights(sentence, translated_tokens, attention_heads):\n",
    "    in_tokens = tf.convert_to_tensor([sentence])\n",
    "    in_tokens = tokenizers.pt.tokenize(in_tokens).to_tensor()\n",
    "    in_tokens = tokenizers.pt.lookup(in_tokens)[0]\n",
    "    in_tokens\n",
    "\n",
    "    fig = plt.figure(figsize=(16, 8))\n",
    "\n",
    "    for h, head in enumerate(attention_heads):\n",
    "        ax = fig.add_subplot(2, 4, h + 1)\n",
    "        plot_attention_head(in_tokens, translated_tokens, head)\n",
    "        ax.set_xlabel(f'Head: {h + 1}')\n",
    "\n",
    "    plt.tight_layout()\n",
    "    plt.show()"
   ]
  },
  {
   "cell_type": "code",
   "execution_count": 81,
   "metadata": {},
   "outputs": [
    {
     "data": {
      "image/png": "[encoded data removed]",
      "text/plain": [
       "<Figure size 1152x576 with 8 Axes>"
      ]
     },
     "metadata": {
      "needs_background": "light"
     },
     "output_type": "display_data"
    }
   ],
   "source": [
    "plot_attention_weights(sentence, translated_tokens, attention_weights['decoder_layer4_block2'][0])"
   ]
  },
  {
   "cell_type": "code",
   "execution_count": 82,
   "metadata": {},
   "outputs": [
    {
     "name": "stdout",
     "output_type": "stream",
     "text": [
      "Input:         : Eu li sobre triceratops na enciclopédia.\n",
      "Prediction:    : i read about triopories in ecloriacissady .\n",
      "Ground truth:  : I read about triceratops in the encyclopedia.\n"
     ]
    },
    {
     "data": {
      "image/png": "[encoded data removed]",
      "text/plain": [
       "<Figure size 1152x576 with 8 Axes>"
      ]
     },
     "metadata": {
      "needs_background": "light"
     },
     "output_type": "display_data"
    }
   ],
   "source": [
    "sentence = 'Eu li sobre triceratops na enciclopédia.'\n",
    "ground_truth = 'I read about triceratops in the encyclopedia.'\n",
    "\n",
    "translated_text, translated_tokens, attention_weights = translator(tf.constant(sentence))\n",
    "\n",
    "print_translation(sentence, translated_text, ground_truth)\n",
    "plot_attention_weights(sentence, translated_tokens, attention_weights['decoder_layer4_block2'][0])"
   ]
  },
  {
   "cell_type": "code",
   "execution_count": 83,
   "metadata": {},
   "outputs": [],
   "source": [
    "class ExportTranslator(tf.Module):\n",
    "    def __init__(self, translator):\n",
    "        self.translator = translator\n",
    "\n",
    "    @tf.function(input_signature=[tf.TensorSpec(shape=[], dtype=tf.string)])\n",
    "    def __call__(self, sentence):\n",
    "        (\n",
    "            result,\n",
    "            tokens,\n",
    "            attention_weights\n",
    "        ) = self.translator(sentence, max_length=MAX_TOKENS)\n",
    "\n",
    "        return result"
   ]
  },
  {
   "cell_type": "code",
   "execution_count": 84,
   "metadata": {},
   "outputs": [],
   "source": [
    "translator = ExportTranslator(translator)"
   ]
  },
  {
   "cell_type": "code",
   "execution_count": 85,
   "metadata": {},
   "outputs": [
    {
     "data": {
      "text/plain": [
       "b'this is the first book i did .'"
      ]
     },
     "execution_count": 85,
     "metadata": {},
     "output_type": "execute_result"
    }
   ],
   "source": [
    "translator('este é o primeiro livro que eu fiz.').numpy()"
   ]
  },
  {
   "cell_type": "code",
   "execution_count": 86,
   "metadata": {},
   "outputs": [
    {
     "name": "stderr",
     "output_type": "stream",
     "text": [
      "WARNING:absl:Found untraced functions such as embedding_5_layer_call_fn, embedding_5_layer_call_and_return_conditional_losses, dropout_37_layer_call_fn, dropout_37_layer_call_and_return_conditional_losses, embedding_6_layer_call_fn while saving (showing 5 of 224). These functions will not be directly callable after loading.\n"
     ]
    }
   ],
   "source": [
    "tf.saved_model.save(translator, export_dir='models/translator')"
   ]
  },
  {
   "cell_type": "code",
   "execution_count": 87,
   "metadata": {},
   "outputs": [],
   "source": [
    "reloaded = tf.saved_model.load('models/translator')"
   ]
  },
  {
   "cell_type": "code",
   "execution_count": 88,
   "metadata": {},
   "outputs": [
    {
     "data": {
      "text/plain": [
       "b'this is the first book i did .'"
      ]
     },
     "execution_count": 88,
     "metadata": {},
     "output_type": "execute_result"
    }
   ],
   "source": [
    "reloaded('este é o primeiro livro que eu fiz.').numpy()"
   ]
  }
 ],
 "metadata": {
  "interpreter": {
   "hash": "f88332bf8f9cc8afc7bb778bb7545ac5c83782e906d09d9d04b8bf751d579777"
  },
  "kernelspec": {
   "display_name": "Python 3.9.12 ('venv': venv)",
   "language": "python",
   "name": "python3"
  },
  "language_info": {
   "codemirror_mode": {
    "name": "ipython",
    "version": 3
   },
   "file_extension": ".py",
   "mimetype": "text/x-python",
   "name": "python",
   "nbconvert_exporter": "python",
   "pygments_lexer": "ipython3",
   "version": "3.9.12"
  },
  "orig_nbformat": 4
 },
 "nbformat": 4,
 "nbformat_minor": 2
}
