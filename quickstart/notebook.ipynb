{
 "cells": [
  {
   "cell_type": "code",
   "execution_count": 1,
   "metadata": {},
   "outputs": [],
   "source": [
    "import torch\n",
    "from torch import nn\n",
    "from torch.utils.data import DataLoader\n",
    "\n",
    "from torchvision import datasets\n",
    "from torchvision.transforms import ToTensor"
   ]
  },
  {
   "cell_type": "code",
   "execution_count": 2,
   "metadata": {},
   "outputs": [],
   "source": [
    "# Download training data from open datasets\n",
    "training_data = datasets.FashionMNIST(\n",
    "    root='data',\n",
    "    train=True,\n",
    "    download=True,\n",
    "    transform=ToTensor()\n",
    ")\n",
    "\n",
    "# Download test data from open datasets\n",
    "test_data = datasets.FashionMNIST(\n",
    "    root='data',\n",
    "    train=False,\n",
    "    download=True,\n",
    "    transform=ToTensor()\n",
    ")"
   ]
  },
  {
   "cell_type": "code",
   "execution_count": 3,
   "metadata": {},
   "outputs": [
    {
     "name": "stdout",
     "output_type": "stream",
     "text": [
      "Shape of X [N, C, H, W]: torch.Size([64, 1, 28, 28])\n",
      "Shape of y: torch.Size([64])\n"
     ]
    }
   ],
   "source": [
    "batch_size = 64\n",
    "\n",
    "# Create data loaders\n",
    "train_dataloader = DataLoader(training_data, batch_size=batch_size)\n",
    "test_dataloader = DataLoader(test_data, batch_size=batch_size)\n",
    "\n",
    "for X, y in test_dataloader:\n",
    "    print(f'Shape of X [N, C, H, W]: {X.shape}')\n",
    "    print(f'Shape of y: {y.shape}')\n",
    "    break"
   ]
  },
  {
   "cell_type": "code",
   "execution_count": 4,
   "metadata": {},
   "outputs": [
    {
     "name": "stdout",
     "output_type": "stream",
     "text": [
      "Using: cuda device\n",
      "NeuralNetwork(\n",
      "  (flatten): Flatten(start_dim=1, end_dim=-1)\n",
      "  (linear_relu_stack): Sequential(\n",
      "    (0): Linear(in_features=784, out_features=512, bias=True)\n",
      "    (1): ReLU()\n",
      "    (2): Linear(in_features=512, out_features=512, bias=True)\n",
      "    (3): ReLU()\n",
      "    (4): Linear(in_features=512, out_features=10, bias=True)\n",
      "  )\n",
      ")\n"
     ]
    }
   ],
   "source": [
    "# Get cpu or gpu device for training\n",
    "device = 'cuda' if torch.cuda.is_available() else 'cpu'\n",
    "print(f'Using: {device} device')\n",
    "\n",
    "# Define model\n",
    "class NeuralNetwork(nn.Module):\n",
    "    def __init__(self):\n",
    "        super(NeuralNetwork, self).__init__()\n",
    "        self.flatten = nn.Flatten()\n",
    "        self.linear_relu_stack = nn.Sequential(\n",
    "            nn.Linear(28 * 28, 512),\n",
    "            nn.ReLU(),\n",
    "            nn.Linear(512, 512),\n",
    "            nn.ReLU(),\n",
    "            nn.Linear(512, 10)\n",
    "        )\n",
    "\n",
    "    def forward(self, x):\n",
    "        x = self.flatten(x)\n",
    "        logits = self.linear_relu_stack(x)\n",
    "        return logits\n",
    "\n",
    "model = NeuralNetwork().to(device)\n",
    "print(model)"
   ]
  },
  {
   "cell_type": "code",
   "execution_count": 5,
   "metadata": {},
   "outputs": [],
   "source": [
    "loss_fn = nn.CrossEntropyLoss()\n",
    "optimizer = torch.optim.SGD(model.parameters(), lr=1e-3)"
   ]
  },
  {
   "cell_type": "code",
   "execution_count": 6,
   "metadata": {},
   "outputs": [],
   "source": [
    "def train(dataloader, model, loss_fn, optimizer):\n",
    "    size = len(dataloader.dataset)\n",
    "\n",
    "    model.train()\n",
    "\n",
    "    for batch, (X, y) in enumerate(dataloader):\n",
    "        X, y = X.to(device), y.to(device)\n",
    "\n",
    "        # Compute prediction error\n",
    "        pred = model(X)\n",
    "        loss = loss_fn(pred, y)\n",
    "\n",
    "        # Backpropagation\n",
    "        optimizer.zero_grad()\n",
    "        loss.backward()\n",
    "        optimizer.step()\n",
    "\n",
    "        if batch % 100 == 0:\n",
    "            loss, current = loss.item(), batch * len(X)\n",
    "            print(f'Loss: {loss:7f}  [{current:5d} / {size:5d}]')"
   ]
  },
  {
   "cell_type": "code",
   "execution_count": 7,
   "metadata": {},
   "outputs": [],
   "source": [
    "def test(dataloader, model, loss_fn):\n",
    "    size = len(dataloader.dataset)\n",
    "    num_batches = len(dataloader)\n",
    "\n",
    "    model.eval()\n",
    "\n",
    "    test_loss, correct = 0, 0\n",
    "\n",
    "    with torch.no_grad():\n",
    "        for X, y in dataloader:\n",
    "            X, y = X.to(device), y.to(device)\n",
    "            pred = model(X)\n",
    "            test_loss += loss_fn(pred, y).item()\n",
    "            correct += (pred.argmax(1) == y).type(torch.float).sum().item()\n",
    "\n",
    "    test_loss /= num_batches\n",
    "    correct /= size\n",
    "\n",
    "    print(f'Test error:\\nAccuracy: {(100 * correct):.1f}%, Avg loss: {test_loss:.8f}')"
   ]
  },
  {
   "cell_type": "code",
   "execution_count": 8,
   "metadata": {},
   "outputs": [
    {
     "name": "stdout",
     "output_type": "stream",
     "text": [
      "Epoch: 1\n",
      "----------------------------------------\n",
      "Loss: 2.302387  [    0 / 60000]\n",
      "Loss: 2.297080  [ 6400 / 60000]\n",
      "Loss: 2.272887  [12800 / 60000]\n",
      "Loss: 2.274221  [19200 / 60000]\n",
      "Loss: 2.251128  [25600 / 60000]\n",
      "Loss: 2.220357  [32000 / 60000]\n",
      "Loss: 2.233600  [38400 / 60000]\n",
      "Loss: 2.197435  [44800 / 60000]\n",
      "Loss: 2.197772  [51200 / 60000]\n",
      "Loss: 2.166790  [57600 / 60000]\n",
      "Test error:\n",
      "Accuracy: 35.5%, Avg loss: 2.15488840\n",
      "Epoch: 2\n",
      "----------------------------------------\n",
      "Loss: 2.165476  [    0 / 60000]\n",
      "Loss: 2.149814  [ 6400 / 60000]\n",
      "Loss: 2.091808  [12800 / 60000]\n",
      "Loss: 2.118679  [19200 / 60000]\n",
      "Loss: 2.052146  [25600 / 60000]\n",
      "Loss: 1.999646  [32000 / 60000]\n",
      "Loss: 2.029560  [38400 / 60000]\n",
      "Loss: 1.952395  [44800 / 60000]\n",
      "Loss: 1.970995  [51200 / 60000]\n",
      "Loss: 1.896081  [57600 / 60000]\n",
      "Test error:\n",
      "Accuracy: 59.3%, Avg loss: 1.88350175\n",
      "Epoch: 3\n",
      "----------------------------------------\n",
      "Loss: 1.922217  [    0 / 60000]\n",
      "Loss: 1.874384  [ 6400 / 60000]\n",
      "Loss: 1.766987  [12800 / 60000]\n",
      "Loss: 1.815954  [19200 / 60000]\n",
      "Loss: 1.687432  [25600 / 60000]\n",
      "Loss: 1.655718  [32000 / 60000]\n",
      "Loss: 1.669573  [38400 / 60000]\n",
      "Loss: 1.583998  [44800 / 60000]\n",
      "Loss: 1.611899  [51200 / 60000]\n",
      "Loss: 1.503869  [57600 / 60000]\n",
      "Test error:\n",
      "Accuracy: 62.2%, Avg loss: 1.51702085\n",
      "Epoch: 4\n",
      "----------------------------------------\n",
      "Loss: 1.591563  [    0 / 60000]\n",
      "Loss: 1.542208  [ 6400 / 60000]\n",
      "Loss: 1.402965  [12800 / 60000]\n",
      "Loss: 1.469499  [19200 / 60000]\n",
      "Loss: 1.341003  [25600 / 60000]\n",
      "Loss: 1.353408  [32000 / 60000]\n",
      "Loss: 1.350185  [38400 / 60000]\n",
      "Loss: 1.297077  [44800 / 60000]\n",
      "Loss: 1.326089  [51200 / 60000]\n",
      "Loss: 1.225887  [57600 / 60000]\n",
      "Test error:\n",
      "Accuracy: 63.9%, Avg loss: 1.24989535\n",
      "Epoch: 5\n",
      "----------------------------------------\n",
      "Loss: 1.332337  [    0 / 60000]\n",
      "Loss: 1.307644  [ 6400 / 60000]\n",
      "Loss: 1.147238  [12800 / 60000]\n",
      "Loss: 1.247797  [19200 / 60000]\n",
      "Loss: 1.115342  [25600 / 60000]\n",
      "Loss: 1.150524  [32000 / 60000]\n",
      "Loss: 1.157511  [38400 / 60000]\n",
      "Loss: 1.118832  [44800 / 60000]\n",
      "Loss: 1.150716  [51200 / 60000]\n",
      "Loss: 1.069442  [57600 / 60000]\n",
      "Test error:\n",
      "Accuracy: 65.1%, Avg loss: 1.08643747\n",
      "Done\n"
     ]
    }
   ],
   "source": [
    "epochs = 5\n",
    "\n",
    "for t in range(epochs):\n",
    "    print(f'Epoch: {t + 1}\\n----------------------------------------')\n",
    "\n",
    "    train(train_dataloader, model, loss_fn, optimizer)\n",
    "    test(test_dataloader, model, loss_fn)\n",
    "\n",
    "print('Done')"
   ]
  },
  {
   "cell_type": "code",
   "execution_count": 9,
   "metadata": {},
   "outputs": [
    {
     "name": "stdout",
     "output_type": "stream",
     "text": [
      "Saved pytorch model state to models/model.pth\n"
     ]
    }
   ],
   "source": [
    "torch.save(model.state_dict(), 'models/model.pth')\n",
    "print('Saved pytorch model state to models/model.pth')"
   ]
  },
  {
   "cell_type": "code",
   "execution_count": 10,
   "metadata": {},
   "outputs": [
    {
     "data": {
      "text/plain": [
       "<All keys matched successfully>"
      ]
     },
     "execution_count": 10,
     "metadata": {},
     "output_type": "execute_result"
    }
   ],
   "source": [
    "model = NeuralNetwork()\n",
    "model.load_state_dict(torch.load('models/model.pth'))"
   ]
  },
  {
   "cell_type": "code",
   "execution_count": 11,
   "metadata": {},
   "outputs": [
    {
     "name": "stdout",
     "output_type": "stream",
     "text": [
      "Predicted: \"Ankle boot\", Actual: \"Ankle boot\"\n"
     ]
    }
   ],
   "source": [
    "classes = [\n",
    "    'T-shirt/top',\n",
    "    'Trouse',\n",
    "    'Pullover',\n",
    "    'Dress',\n",
    "    'Coat',\n",
    "    'Sandal',\n",
    "    'Shirt',\n",
    "    'Sneaker',\n",
    "    'Bag',\n",
    "    'Ankle boot'\n",
    "]\n",
    "\n",
    "model.eval()\n",
    "\n",
    "x, y = test_data[0][0], test_data[0][1]\n",
    "\n",
    "with torch.no_grad():\n",
    "    pred = model(x)\n",
    "    \n",
    "    predicted, actual = classes[pred[0].argmax(0)], classes[y]\n",
    "    print(f'Predicted: \"{predicted}\", Actual: \"{actual}\"')"
   ]
  }
 ],
 "metadata": {
  "interpreter": {
   "hash": "23b6df70decdf7f18872ad2867a461307b11c870fc2cb806e592e019908b5174"
  },
  "kernelspec": {
   "display_name": "Python 3.9.12 ('quickstart')",
   "language": "python",
   "name": "python3"
  },
  "language_info": {
   "codemirror_mode": {
    "name": "ipython",
    "version": 3
   },
   "file_extension": ".py",
   "mimetype": "text/x-python",
   "name": "python",
   "nbconvert_exporter": "python",
   "pygments_lexer": "ipython3",
   "version": "3.9.12"
  },
  "orig_nbformat": 4
 },
 "nbformat": 4,
 "nbformat_minor": 2
}
